{
 "cells": [
  {
   "cell_type": "code",
   "execution_count": null,
   "metadata": {},
   "outputs": [],
   "source": [
    "import json\n",
    "import numpy as np\n",
    "import pandas as pd\n",
    "import matplotlib.pyplot as plt\n",
    "from pandas.io.json import json_normalize\n",
    "import collections\n",
    "from scipy import stats\n",
    "\n",
    "%matplotlib inline"
   ]
  },
  {
   "cell_type": "code",
   "execution_count": null,
   "metadata": {},
   "outputs": [],
   "source": [
    "# Examining Product Metadata"
   ]
  },
  {
   "cell_type": "code",
   "execution_count": null,
   "metadata": {},
   "outputs": [],
   "source": [
    "PRODUCTS_FILEPATH = 'data/products.csv'\n",
    "\n",
    "id_to_product = {}\n",
    "\n",
    "with open(PRODUCTS_FILEPATH, 'r') as f:\n",
    "    for i, row in enumerate(f):\n",
    "        if i % 500 == 0:\n",
    "            print(i)\n",
    "        for product in json.loads(row):\n",
    "            id_to_product[product['id']] = product"
   ]
  },
  {
   "cell_type": "code",
   "execution_count": null,
   "metadata": {},
   "outputs": [],
   "source": [
    "ids = list(id_to_product.keys())\n",
    "\n",
    "id_to_category = {}\n",
    "for product in id_to_product.values():\n",
    "    for category in product['categories']:\n",
    "        id_to_category[category['numId']] = category\n",
    "\n",
    "category_ids_of_interest = set([\n",
    "    70, # bracelets\n",
    "    73, # necklaces\n",
    "    75, # rings\n",
    "    72, # earrings\n",
    "])\n",
    "\n",
    "category_to_count = collections.Counter()\n",
    "category_to_products = collections.defaultdict(set)\n",
    "\n",
    "i = 0\n",
    "for product in id_to_product.values():\n",
    "    category_ids = set(category['numId'] for category in product['categories'])\n",
    "    ids_in_common = category_ids & category_ids_of_interest\n",
    "    if len(ids_in_common) != 1:\n",
    "        i += 1\n",
    "    else:\n",
    "        category_to_count[list(ids_in_common)[0]] += 1\n",
    "        category_id = list(ids_in_common)[0]\n",
    "        category_to_products[category_id].add(product['id'])\n",
    "print(category_to_count)\n",
    "\n",
    "\n",
    "# for category in id_to_category.values():\n",
    "#     print(category)\n",
    "        "
   ]
  },
  {
   "cell_type": "code",
   "execution_count": null,
   "metadata": {},
   "outputs": [],
   "source": [
    "items = pd.DataFrame.from_dict(id_to_product, orient='index')\n",
    "items.info()"
   ]
  },
  {
   "cell_type": "code",
   "execution_count": null,
   "metadata": {},
   "outputs": [],
   "source": [
    "def split_category(item):\n",
    "    for i in item:\n",
    "        return(i['numId'])\n",
    "    \n",
    "items['category_numID'] = items['categories'].apply(split_category)\n",
    "items.head()"
   ]
  },
  {
   "cell_type": "code",
   "execution_count": null,
   "metadata": {},
   "outputs": [],
   "source": [
    "plt.hist(items.price, bins=100); \n",
    "print(f'Minimum Price: {min(items.price)}')\n",
    "print(f'Maximum Price: {max(items.price)}')"
   ]
  },
  {
   "cell_type": "code",
   "execution_count": null,
   "metadata": {},
   "outputs": [],
   "source": [
    "items_of_interest = items[items['category_numID'].isin(category_ids_of_interest)]\n",
    "items_of_interest.boxplot('price', by='category_numID')"
   ]
  },
  {
   "cell_type": "code",
   "execution_count": null,
   "metadata": {},
   "outputs": [],
   "source": [
    "items_of_interest.groupby('category_numID')['price'].agg(['median', 'mean', 'min', 'max'])\n",
    "items_of_interest['price'].hist(by=items_of_interest['category_numID'], bins = 100); "
   ]
  },
  {
   "cell_type": "code",
   "execution_count": null,
   "metadata": {},
   "outputs": [],
   "source": [
    "F, p = stats.f_oneway(items_of_interest['price'][items_of_interest['category_numID'] == 70], \n",
    "             items_of_interest['price'][items_of_interest['category_numID'] == 72],\n",
    "             items_of_interest['price'][items_of_interest['category_numID'] == 73],\n",
    "            items_of_interest['price'][items_of_interest['category_numID'] == 75])\n",
    "print(f'F-stat = {F}; p-val = {p}')"
   ]
  }
 ],
 "metadata": {
  "kernelspec": {
   "display_name": "Python 3",
   "language": "python",
   "name": "python3"
  },
  "language_info": {
   "codemirror_mode": {
    "name": "ipython",
    "version": 3
   },
   "file_extension": ".py",
   "mimetype": "text/x-python",
   "name": "python",
   "nbconvert_exporter": "python",
   "pygments_lexer": "ipython3",
   "version": "3.7.3"
  }
 },
 "nbformat": 4,
 "nbformat_minor": 2
}
