{
 "cells": [
  {
   "cell_type": "code",
   "execution_count": 2,
   "metadata": {},
   "outputs": [],
   "source": [
    "from keras.preprocessing.image import ImageDataGenerator"
   ]
  },
  {
   "cell_type": "code",
   "execution_count": 4,
   "metadata": {},
   "outputs": [],
   "source": [
    "def read_images(dir):\n",
    "    # rescales images\n",
    "    datagen = ImageDataGenerator(rescale=1./255)\n",
    "    \n",
    "    generator = datagen.flow_from_directory(\n",
    "        dir,\n",
    "        target_size = (),\n",
    "        batch_size = 20,\n",
    "        class_mode = 'categorical',\n",
    "        color_mode = 'rgb'\n",
    "    )\n",
    "    \n",
    "    return(generator)"
   ]
  },
  {
   "cell_type": "code",
   "execution_count": null,
   "metadata": {},
   "outputs": [],
   "source": [
    "datasets = {\n",
    "    'train': 'data/training', \n",
    "    'test': 'data/testing', \n",
    "    'valid': 'data/validation',}\n",
    "\n",
    "for k,v in datasets.items():\n",
    "    \n",
    "    generator = read_images(v)"
   ]
  }
 ],
 "metadata": {
  "kernelspec": {
   "display_name": "Python 3",
   "language": "python",
   "name": "python3"
  },
  "language_info": {
   "codemirror_mode": {
    "name": "ipython",
    "version": 3
   },
   "file_extension": ".py",
   "mimetype": "text/x-python",
   "name": "python",
   "nbconvert_exporter": "python",
   "pygments_lexer": "ipython3",
   "version": "3.7.3"
  }
 },
 "nbformat": 4,
 "nbformat_minor": 2
}
