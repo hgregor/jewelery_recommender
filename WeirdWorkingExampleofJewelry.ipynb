{
 "cells": [
  {
   "cell_type": "code",
   "execution_count": 354,
   "metadata": {},
   "outputs": [],
   "source": [
    "import cv2\n",
    "import numpy as np\n",
    "import os\n",
    "import tensorflow as tf\n",
    "from tqdm import tqdm\n",
    "%matplotlib inline\n",
    "import matplotlib.pyplot as plt\n",
    "from keras.preprocessing.image import ImageDataGenerator\n",
    "from keras.layers import Input, Dense, Conv2D, MaxPooling2D, UpSampling2D, Flatten\n",
    "from keras.models import Model\n",
    "import numpy as np\n",
    "import pandas as pd\n",
    "import os\n",
    "import sys\n",
    "from keras.optimizers import Adam\n",
    "import skimage.io\n",
    "from multiprocessing import Pool\n",
    "import tensorflow as tf\n",
    "from sklearn.neighbors import NearestNeighbors\n",
    "import pickle"
   ]
  },
  {
   "cell_type": "markdown",
   "metadata": {},
   "source": [
    "# Prep and input of data"
   ]
  },
  {
   "cell_type": "code",
   "execution_count": 2,
   "metadata": {},
   "outputs": [],
   "source": [
    "train_data = 'data/training/earrings'\n",
    "test_data = 'data/testing/earrings'"
   ]
  },
  {
   "cell_type": "code",
   "execution_count": 55,
   "metadata": {},
   "outputs": [],
   "source": [
    "def train_data_with_label():\n",
    "    train_images = []\n",
    "    for i in tqdm(os.listdir(train_data)):\n",
    "        path = os.path.join(train_data, i)\n",
    "        img = cv2.imread(path, cv2.IMREAD_COLOR)\n",
    "        img = cv2.resize(img, (28,28))\n",
    "        train_images.append([np.array(img)])\n",
    "#         shuffle(train_images)\n",
    "    return train_images\n",
    "\n",
    "def test_data_with_label():\n",
    "    test_images = []\n",
    "    for i in tqdm(os.listdir(test_data)):\n",
    "        path = os.path.join(test_data, i)\n",
    "        img = cv2.imread(path, cv2.IMREAD_COLOR)\n",
    "        img = cv2.resize(img, (28,28))\n",
    "        test_images.append([np.array(img)])\n",
    "    return test_images"
   ]
  },
  {
   "cell_type": "code",
   "execution_count": 56,
   "metadata": {},
   "outputs": [
    {
     "name": "stderr",
     "output_type": "stream",
     "text": [
      "100%|██████████| 500/500 [00:02<00:00, 175.94it/s]\n",
      "100%|██████████| 1000/1000 [00:05<00:00, 174.86it/s]\n"
     ]
    }
   ],
   "source": [
    "# Get the images and put them into np arrays and resize them\n",
    "testing_images = test_data_with_label()\n",
    "training_images = train_data_with_label()"
   ]
  },
  {
   "cell_type": "code",
   "execution_count": 347,
   "metadata": {},
   "outputs": [
    {
     "data": {
      "text/plain": [
       "list"
      ]
     },
     "execution_count": 347,
     "metadata": {},
     "output_type": "execute_result"
    }
   ],
   "source": [
    "type(testing_images)"
   ]
  },
  {
   "cell_type": "code",
   "execution_count": 59,
   "metadata": {},
   "outputs": [],
   "source": [
    "# normalize the images\n",
    "tst_img_data = tst_img_data.astype('float32') / 255.\n",
    "tr_img_data = tr_img_data.astype('float32') / 255."
   ]
  },
  {
   "cell_type": "code",
   "execution_count": 357,
   "metadata": {},
   "outputs": [
    {
     "data": {
      "text/plain": [
       "(1000, 28, 28, 3)"
      ]
     },
     "execution_count": 357,
     "metadata": {},
     "output_type": "execute_result"
    }
   ],
   "source": [
    "tr_img_data.shape"
   ]
  },
  {
   "cell_type": "code",
   "execution_count": 195,
   "metadata": {},
   "outputs": [
    {
     "data": {
      "text/plain": [
       "<matplotlib.image.AxesImage at 0x1c3d963dd8>"
      ]
     },
     "execution_count": 195,
     "metadata": {},
     "output_type": "execute_result"
    },
    {
     "data": {
      "image/png": "[encoded data removed]",
      "text/plain": [
       "<Figure size 432x288 with 1 Axes>"
      ]
     },
     "metadata": {
      "needs_background": "light"
     },
     "output_type": "display_data"
    }
   ],
   "source": [
    "plt.imshow(tr_img_data[999])"
   ]
  },
  {
   "cell_type": "code",
   "execution_count": 62,
   "metadata": {},
   "outputs": [],
   "source": [
    "# dimensions of our images.\n",
    "img_width, img_height = 28, 28\n",
    "img_channel = 3"
   ]
  },
  {
   "cell_type": "code",
   "execution_count": null,
   "metadata": {},
   "outputs": [],
   "source": []
  },
  {
   "cell_type": "markdown",
   "metadata": {},
   "source": [
    "# CNN Architecture"
   ]
  },
  {
   "cell_type": "code",
   "execution_count": 67,
   "metadata": {},
   "outputs": [],
   "source": [
    "input_img = Input(shape=(img_width, img_height, img_channel))  # adapt this if using `channels_first` image data format\n",
    "\n",
    "x = Conv2D(16, (3, 3), activation='relu', padding='same')(input_img)\n",
    "x = MaxPooling2D((2, 2), padding='same')(x)\n",
    "x = Conv2D(8, (3, 3), activation='relu', padding='same')(x)\n",
    "x = MaxPooling2D((2, 2), padding='same')(x)\n",
    "x = Conv2D(8, (3, 3), activation='relu', padding='same')(x)\n",
    "encoded = MaxPooling2D((2, 2), padding='same')(x)\n",
    "\n",
    "# at this point the representation is (4, 4, 8) i.e. 128-dimensional\n",
    "\n",
    "x = Conv2D(8, (3, 3), activation='relu', padding='same')(encoded)\n",
    "x = UpSampling2D((2, 2))(x)\n",
    "x = Conv2D(8, (3, 3), activation='relu', padding='same')(x)\n",
    "x = UpSampling2D((2, 2))(x)\n",
    "x = Conv2D(16, (3, 3), activation='relu')(x)\n",
    "x = UpSampling2D((2, 2))(x)\n",
    "decoded = Conv2D(3, (3, 3), activation='sigmoid', padding='same')(x)\n",
    "\n",
    "autoencoder = Model(input_img, decoded)\n",
    "autoencoder.compile(optimizer='adam', loss='binary_crossentropy')"
   ]
  },
  {
   "cell_type": "code",
   "execution_count": 68,
   "metadata": {},
   "outputs": [
    {
     "name": "stdout",
     "output_type": "stream",
     "text": [
      "Model: \"model_6\"\n",
      "_________________________________________________________________\n",
      "Layer (type)                 Output Shape              Param #   \n",
      "=================================================================\n",
      "input_5 (InputLayer)         (None, 28, 28, 3)         0         \n",
      "_________________________________________________________________\n",
      "conv2d_15 (Conv2D)           (None, 28, 28, 16)        448       \n",
      "_________________________________________________________________\n",
      "max_pooling2d_7 (MaxPooling2 (None, 14, 14, 16)        0         \n",
      "_________________________________________________________________\n",
      "conv2d_16 (Conv2D)           (None, 14, 14, 8)         1160      \n",
      "_________________________________________________________________\n",
      "max_pooling2d_8 (MaxPooling2 (None, 7, 7, 8)           0         \n",
      "_________________________________________________________________\n",
      "conv2d_17 (Conv2D)           (None, 7, 7, 8)           584       \n",
      "_________________________________________________________________\n",
      "max_pooling2d_9 (MaxPooling2 (None, 4, 4, 8)           0         \n",
      "_________________________________________________________________\n",
      "conv2d_18 (Conv2D)           (None, 4, 4, 8)           584       \n",
      "_________________________________________________________________\n",
      "up_sampling2d_7 (UpSampling2 (None, 8, 8, 8)           0         \n",
      "_________________________________________________________________\n",
      "conv2d_19 (Conv2D)           (None, 8, 8, 8)           584       \n",
      "_________________________________________________________________\n",
      "up_sampling2d_8 (UpSampling2 (None, 16, 16, 8)         0         \n",
      "_________________________________________________________________\n",
      "conv2d_20 (Conv2D)           (None, 14, 14, 16)        1168      \n",
      "_________________________________________________________________\n",
      "up_sampling2d_9 (UpSampling2 (None, 28, 28, 16)        0         \n",
      "_________________________________________________________________\n",
      "conv2d_21 (Conv2D)           (None, 28, 28, 3)         435       \n",
      "=================================================================\n",
      "Total params: 4,963\n",
      "Trainable params: 4,963\n",
      "Non-trainable params: 0\n",
      "_________________________________________________________________\n"
     ]
    }
   ],
   "source": [
    "autoencoder.summary()"
   ]
  },
  {
   "cell_type": "code",
   "execution_count": 69,
   "metadata": {},
   "outputs": [],
   "source": [
    "autoencoder.compile(optimizer='adam', loss='binary_crossentropy')"
   ]
  },
  {
   "cell_type": "code",
   "execution_count": 70,
   "metadata": {},
   "outputs": [
    {
     "name": "stdout",
     "output_type": "stream",
     "text": [
      "Train on 1000 samples, validate on 500 samples\n",
      "Epoch 1/50\n",
      "1000/1000 [==============================] - 2s 2ms/step - loss: 0.5679 - val_loss: 0.4115\n",
      "Epoch 2/50\n",
      "1000/1000 [==============================] - 1s 1ms/step - loss: 0.4120 - val_loss: 0.3758\n",
      "Epoch 3/50\n",
      "1000/1000 [==============================] - 1s 1ms/step - loss: 0.3710 - val_loss: 0.3499\n",
      "Epoch 4/50\n",
      "1000/1000 [==============================] - 1s 1ms/step - loss: 0.3425 - val_loss: 0.3241\n",
      "Epoch 5/50\n",
      "1000/1000 [==============================] - 1s 1ms/step - loss: 0.3294 - val_loss: 0.3151\n",
      "Epoch 6/50\n",
      "1000/1000 [==============================] - 1s 1ms/step - loss: 0.3205 - val_loss: 0.3099\n",
      "Epoch 7/50\n",
      "1000/1000 [==============================] - 1s 1ms/step - loss: 0.3139 - val_loss: 0.3039\n",
      "Epoch 8/50\n",
      "1000/1000 [==============================] - 1s 1ms/step - loss: 0.3095 - val_loss: 0.3010\n",
      "Epoch 9/50\n",
      "1000/1000 [==============================] - 2s 2ms/step - loss: 0.3062 - val_loss: 0.2992\n",
      "Epoch 10/50\n",
      "1000/1000 [==============================] - 1s 1ms/step - loss: 0.3041 - val_loss: 0.2987\n",
      "Epoch 11/50\n",
      "1000/1000 [==============================] - 1s 1ms/step - loss: 0.3022 - val_loss: 0.2959\n",
      "Epoch 12/50\n",
      "1000/1000 [==============================] - 1s 1ms/step - loss: 0.3003 - val_loss: 0.2932\n",
      "Epoch 13/50\n",
      "1000/1000 [==============================] - 1s 1ms/step - loss: 0.2988 - val_loss: 0.2919\n",
      "Epoch 14/50\n",
      "1000/1000 [==============================] - 1s 1ms/step - loss: 0.2982 - val_loss: 0.2954\n",
      "Epoch 15/50\n",
      "1000/1000 [==============================] - 1s 1ms/step - loss: 0.2973 - val_loss: 0.2900\n",
      "Epoch 16/50\n",
      "1000/1000 [==============================] - 1s 1ms/step - loss: 0.2951 - val_loss: 0.2888\n",
      "Epoch 17/50\n",
      "1000/1000 [==============================] - 1s 1ms/step - loss: 0.2939 - val_loss: 0.2881\n",
      "Epoch 18/50\n",
      "1000/1000 [==============================] - 1s 1ms/step - loss: 0.2932 - val_loss: 0.2891\n",
      "Epoch 19/50\n",
      "1000/1000 [==============================] - 1s 1ms/step - loss: 0.2928 - val_loss: 0.2872\n",
      "Epoch 20/50\n",
      "1000/1000 [==============================] - 1s 1ms/step - loss: 0.2920 - val_loss: 0.2893\n",
      "Epoch 21/50\n",
      "1000/1000 [==============================] - 1s 1ms/step - loss: 0.2921 - val_loss: 0.2855\n",
      "Epoch 22/50\n",
      "1000/1000 [==============================] - 1s 1ms/step - loss: 0.2907 - val_loss: 0.2866\n",
      "Epoch 23/50\n",
      "1000/1000 [==============================] - 1s 1ms/step - loss: 0.2901 - val_loss: 0.2843\n",
      "Epoch 24/50\n",
      "1000/1000 [==============================] - 2s 2ms/step - loss: 0.2901 - val_loss: 0.2861\n",
      "Epoch 25/50\n",
      "1000/1000 [==============================] - 2s 2ms/step - loss: 0.2893 - val_loss: 0.2834\n",
      "Epoch 26/50\n",
      "1000/1000 [==============================] - 1s 1ms/step - loss: 0.2886 - val_loss: 0.2834\n",
      "Epoch 27/50\n",
      "1000/1000 [==============================] - 1s 1ms/step - loss: 0.2877 - val_loss: 0.2826\n",
      "Epoch 28/50\n",
      "1000/1000 [==============================] - 1s 1ms/step - loss: 0.2876 - val_loss: 0.2821\n",
      "Epoch 29/50\n",
      "1000/1000 [==============================] - 1s 1ms/step - loss: 0.2868 - val_loss: 0.2833\n",
      "Epoch 30/50\n",
      "1000/1000 [==============================] - 1s 1ms/step - loss: 0.2876 - val_loss: 0.2815\n",
      "Epoch 31/50\n",
      "1000/1000 [==============================] - 1s 1ms/step - loss: 0.2864 - val_loss: 0.2814\n",
      "Epoch 32/50\n",
      "1000/1000 [==============================] - 1s 1ms/step - loss: 0.2859 - val_loss: 0.2809\n",
      "Epoch 33/50\n",
      "1000/1000 [==============================] - 1s 1ms/step - loss: 0.2856 - val_loss: 0.2807\n",
      "Epoch 34/50\n",
      "1000/1000 [==============================] - 1s 1ms/step - loss: 0.2850 - val_loss: 0.2809\n",
      "Epoch 35/50\n",
      "1000/1000 [==============================] - 1s 1ms/step - loss: 0.2850 - val_loss: 0.2799\n",
      "Epoch 36/50\n",
      "1000/1000 [==============================] - 1s 1ms/step - loss: 0.2841 - val_loss: 0.2815\n",
      "Epoch 37/50\n",
      "1000/1000 [==============================] - 1s 1ms/step - loss: 0.2839 - val_loss: 0.2813\n",
      "Epoch 38/50\n",
      "1000/1000 [==============================] - 1s 1ms/step - loss: 0.2844 - val_loss: 0.2818\n",
      "Epoch 39/50\n",
      "1000/1000 [==============================] - 2s 2ms/step - loss: 0.2842 - val_loss: 0.2792\n",
      "Epoch 40/50\n",
      "1000/1000 [==============================] - 2s 2ms/step - loss: 0.2827 - val_loss: 0.2795\n",
      "Epoch 41/50\n",
      "1000/1000 [==============================] - 1s 1ms/step - loss: 0.2823 - val_loss: 0.2784\n",
      "Epoch 42/50\n",
      "1000/1000 [==============================] - 1s 1ms/step - loss: 0.2819 - val_loss: 0.2789\n",
      "Epoch 43/50\n",
      "1000/1000 [==============================] - 1s 1ms/step - loss: 0.2829 - val_loss: 0.2796\n",
      "Epoch 44/50\n",
      "1000/1000 [==============================] - 1s 1ms/step - loss: 0.2815 - val_loss: 0.2775\n",
      "Epoch 45/50\n",
      "1000/1000 [==============================] - 1s 1ms/step - loss: 0.2817 - val_loss: 0.2834\n",
      "Epoch 46/50\n",
      "1000/1000 [==============================] - 1s 1ms/step - loss: 0.2822 - val_loss: 0.2774\n",
      "Epoch 47/50\n",
      "1000/1000 [==============================] - 1s 1ms/step - loss: 0.2806 - val_loss: 0.2780\n",
      "Epoch 48/50\n",
      "1000/1000 [==============================] - 1s 1ms/step - loss: 0.2802 - val_loss: 0.2764\n",
      "Epoch 49/50\n",
      "1000/1000 [==============================] - 1s 1ms/step - loss: 0.2801 - val_loss: 0.2769\n",
      "Epoch 50/50\n",
      "1000/1000 [==============================] - 1s 1ms/step - loss: 0.2807 - val_loss: 0.2763\n"
     ]
    }
   ],
   "source": [
    "autoencoder_train = autoencoder.fit(\n",
    "    tr_img_data, tr_img_data,\n",
    "    validation_data = (tst_img_data,tst_img_data),\n",
    "    batch_size=32,\n",
    "    epochs=50,\n",
    "    verbose=1,\n",
    ")"
   ]
  },
  {
   "cell_type": "code",
   "execution_count": 214,
   "metadata": {},
   "outputs": [],
   "source": [
    "# this model maps an input to its encoded representation\n",
    "encoder = Model(input_img, encoded)"
   ]
  },
  {
   "cell_type": "code",
   "execution_count": 353,
   "metadata": {},
   "outputs": [
    {
     "data": {
      "text/plain": [
       "<keras.engine.training.Model at 0x1c43bdcc18>"
      ]
     },
     "execution_count": 353,
     "metadata": {},
     "output_type": "execute_result"
    }
   ],
   "source": [
    "encoder"
   ]
  },
  {
   "cell_type": "code",
   "execution_count": 255,
   "metadata": {},
   "outputs": [],
   "source": [
    "# encode some digits\n",
    "# note that we take them from the *test* set\n",
    "encoded_train_imgs = encoder.predict(tr_img_data)\n",
    "encoded_test_imgs = encoder.predict(tst_img_data)"
   ]
  },
  {
   "cell_type": "code",
   "execution_count": 256,
   "metadata": {},
   "outputs": [
    {
     "data": {
      "text/plain": [
       "(1000, 4, 4, 8)"
      ]
     },
     "execution_count": 256,
     "metadata": {},
     "output_type": "execute_result"
    }
   ],
   "source": [
    "encoded_train_imgs.shape"
   ]
  },
  {
   "cell_type": "code",
   "execution_count": 257,
   "metadata": {},
   "outputs": [
    {
     "data": {
      "text/plain": [
       "(500, 4, 4, 8)"
      ]
     },
     "execution_count": 257,
     "metadata": {},
     "output_type": "execute_result"
    }
   ],
   "source": [
    "encoded_test_imgs.shape"
   ]
  },
  {
   "cell_type": "code",
   "execution_count": 293,
   "metadata": {},
   "outputs": [],
   "source": [
    "# flatten the img, so they are the shape (#imgs, height*width*channels of output of encoder)\n",
    "encoded_train_imgs_flat = encoded_train_imgs.reshape((-1, np.prod(encoded_train_imgs.shape[1:])))\n",
    "encoded_test_imgs_flat = encoded_test_imgs.reshape((-1, np.prod(encoded_test_imgs.shape[1:])))"
   ]
  },
  {
   "cell_type": "code",
   "execution_count": 329,
   "metadata": {},
   "outputs": [
    {
     "data": {
      "text/plain": [
       "(500, 128)"
      ]
     },
     "execution_count": 329,
     "metadata": {},
     "output_type": "execute_result"
    }
   ],
   "source": [
    "encoded_test_imgs_flat.shape"
   ]
  },
  {
   "cell_type": "code",
   "execution_count": 295,
   "metadata": {},
   "outputs": [
    {
     "data": {
      "text/plain": [
       "array([0.6444786 , 0.5731646 , 0.8859197 , 0.969511  , 2.0689235 ,\n",
       "       0.64643544, 0.89350593, 0.54326487, 0.9120658 , 0.24917604,\n",
       "       0.87653476, 0.27672318, 1.936107  , 0.6279447 , 0.5079407 ,\n",
       "       0.61978215, 0.8402245 , 0.58713865, 0.8905654 , 0.92086613,\n",
       "       2.6031005 , 0.9322611 , 1.074119  , 0.        , 0.8152442 ,\n",
       "       0.        , 0.8903912 , 0.5606556 , 1.4162422 , 0.35392877,\n",
       "       0.13770694, 0.        , 0.33434507, 0.62931776, 0.9532478 ,\n",
       "       0.8974161 , 2.3765423 , 0.7809754 , 0.93383366, 0.09138253,\n",
       "       0.6592398 , 0.4950013 , 1.1325015 , 0.20730351, 2.264473  ,\n",
       "       0.76264155, 0.7257626 , 0.27428675, 0.6356741 , 0.58499295,\n",
       "       1.0494269 , 0.71765155, 2.7489178 , 0.88151014, 0.8610063 ,\n",
       "       0.        , 0.4907272 , 0.        , 0.69055605, 0.59709513,\n",
       "       1.9277807 , 0.28519502, 0.15556185, 0.        , 0.78035235,\n",
       "       0.69963884, 0.78698283, 0.21881984, 1.9838362 , 0.81817394,\n",
       "       1.060478  , 0.28189385, 1.0433829 , 0.6401777 , 1.1659834 ,\n",
       "       0.02410414, 1.9926949 , 0.98864996, 1.0097919 , 0.36355898,\n",
       "       0.69858617, 0.56368303, 0.9729552 , 0.8329534 , 2.5944118 ,\n",
       "       1.0860444 , 1.141265  , 0.        , 0.56456745, 0.00943326,\n",
       "       0.76376605, 0.5906175 , 1.3355321 , 0.21487296, 0.69923335,\n",
       "       0.        , 0.5129841 , 0.48279768, 0.36571693, 0.795371  ,\n",
       "       1.4549476 , 0.27100354, 0.7077367 , 0.24090055, 0.66980267,\n",
       "       0.35704616, 0.4213462 , 0.45166296, 1.9680305 , 0.4830721 ,\n",
       "       0.30642292, 0.5220015 , 0.67153   , 0.49444267, 0.11062365,\n",
       "       0.8010309 , 2.2480931 , 0.5917609 , 0.82461435, 0.1111124 ,\n",
       "       0.5128702 , 0.        , 0.02600346, 0.5404433 , 1.1157924 ,\n",
       "       0.23281872, 0.23756076, 0.        ], dtype=float32)"
      ]
     },
     "execution_count": 295,
     "metadata": {},
     "output_type": "execute_result"
    }
   ],
   "source": [
    "encoded_test_imgs_flat[0]"
   ]
  },
  {
   "cell_type": "code",
   "execution_count": 297,
   "metadata": {},
   "outputs": [
    {
     "data": {
      "image/png": "[encoded data removed]",
      "text/plain": [
       "<Figure size 432x288 with 1 Axes>"
      ]
     },
     "metadata": {
      "needs_background": "light"
     },
     "output_type": "display_data"
    }
   ],
   "source": [
    "# Training vs Validation Loss Plot\n",
    "loss = autoencoder.history.history['loss']\n",
    "val_loss = autoencoder.history.history['val_loss']\n",
    "epochs = range(50)\n",
    "plt.figure()\n",
    "plt.plot(epochs, loss, 'bo', label='Training loss')\n",
    "plt.plot(epochs, val_loss, 'b', label='Validation loss')\n",
    "plt.title('Training and validation loss')\n",
    "plt.legend()\n",
    "plt.show()"
   ]
  },
  {
   "cell_type": "markdown",
   "metadata": {},
   "source": [
    "Validation loss and the training loss both are in sync. It shows that your model is not overfitting: the validation loss is decreasing and not increasing, and there rarely any gap between training and validation loss."
   ]
  },
  {
   "cell_type": "markdown",
   "metadata": {},
   "source": [
    "# Trying KNN"
   ]
  },
  {
   "cell_type": "code",
   "execution_count": 298,
   "metadata": {},
   "outputs": [
    {
     "data": {
      "text/plain": [
       "NearestNeighbors(algorithm='auto', leaf_size=30, metric='cosine',\n",
       "                 metric_params=None, n_jobs=None, n_neighbors=5, p=2,\n",
       "                 radius=1.0)"
      ]
     },
     "execution_count": 298,
     "metadata": {},
     "output_type": "execute_result"
    }
   ],
   "source": [
    "# Making Training set with the encoded layer\n",
    "knn = NearestNeighbors(n_neighbors=5, metric=\"cosine\")\n",
    "knn.fit(encoded_train_imgs_flat)"
   ]
  },
  {
   "cell_type": "code",
   "execution_count": 355,
   "metadata": {},
   "outputs": [],
   "source": [
    "# Save the trained model as a pickle string. \n",
    "pickle_name = 'jewelry_knn_test.sav'\n",
    "pickle.dump(knn, open(pickle_name, 'wb')) "
   ]
  },
  {
   "cell_type": "code",
   "execution_count": 348,
   "metadata": {},
   "outputs": [],
   "source": [
    "test_img = 7"
   ]
  },
  {
   "cell_type": "code",
   "execution_count": 349,
   "metadata": {},
   "outputs": [],
   "source": [
    "# Predict KNN for a test image\n",
    "distances, indices = knn.kneighbors(encoded_test_imgs_flat[test_img].reshape(1, -1))"
   ]
  },
  {
   "cell_type": "code",
   "execution_count": 350,
   "metadata": {},
   "outputs": [
    {
     "data": {
      "text/plain": [
       "<matplotlib.image.AxesImage at 0x1c44dcb630>"
      ]
     },
     "execution_count": 350,
     "metadata": {},
     "output_type": "execute_result"
    },
    {
     "data": {
      "image/png": "[encoded data removed]",
      "text/plain": [
       "<Figure size 432x288 with 1 Axes>"
      ]
     },
     "metadata": {
      "needs_background": "light"
     },
     "output_type": "display_data"
    }
   ],
   "source": [
    "# Print the test image\n",
    "plt.imshow(tst_img_data[test_img].reshape(28, 28, 3))"
   ]
  },
  {
   "cell_type": "code",
   "execution_count": 351,
   "metadata": {},
   "outputs": [
    {
     "data": {
      "text/plain": [
       "array([[332, 459, 568, 478,  64]])"
      ]
     },
     "execution_count": 351,
     "metadata": {},
     "output_type": "execute_result"
    }
   ],
   "source": [
    "# indices for the neighbors in the training data set\n",
    "indices"
   ]
  },
  {
   "cell_type": "code",
   "execution_count": 352,
   "metadata": {},
   "outputs": [
    {
     "data": {
      "image/png": "[encoded data removed]",
      "text/plain": [
       "<Figure size 576x576 with 5 Axes>"
      ]
     },
     "metadata": {
      "needs_background": "light"
     },
     "output_type": "display_data"
    }
   ],
   "source": [
    "# n_neighbors of the test image\n",
    "fig= plt.figure(figsize=(8, 8))\n",
    "columns = 3\n",
    "rows = 2\n",
    "for i, idx in zip(range(1, columns*rows +1), np.nditer(indices)):\n",
    "    fig.add_subplot(rows, columns, i)\n",
    "    plt.imshow(tr_img_data[idx].reshape(28, 28, 3))\n",
    "plt.show()"
   ]
  },
  {
   "cell_type": "markdown",
   "metadata": {},
   "source": [
    "# WOOOT"
   ]
  },
  {
   "cell_type": "code",
   "execution_count": null,
   "metadata": {},
   "outputs": [],
   "source": []
  }
 ],
 "metadata": {
  "kernelspec": {
   "display_name": "Python 3",
   "language": "python",
   "name": "python3"
  },
  "language_info": {
   "codemirror_mode": {
    "name": "ipython",
    "version": 3
   },
   "file_extension": ".py",
   "mimetype": "text/x-python",
   "name": "python",
   "nbconvert_exporter": "python",
   "pygments_lexer": "ipython3",
   "version": "3.7.3"
  }
 },
 "nbformat": 4,
 "nbformat_minor": 2
}
