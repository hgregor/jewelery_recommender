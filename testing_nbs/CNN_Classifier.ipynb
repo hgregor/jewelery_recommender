{
 "cells": [
  {
   "cell_type": "code",
   "execution_count": 6,
   "metadata": {},
   "outputs": [],
   "source": [
    "import numpy as np\n",
    "import pandas as pd\n",
    "import tensorflow as tf\n",
    "from keras.layers import Activation, Dropout, Flatten, Dense, Conv2D, MaxPooling2D\n",
    "from keras.models import Model\n",
    "from keras.optimizers import RMSprop, Adam\n",
    "from keras.callbacks import CSVLogger\n",
    "from livelossplot import PlotLossesKeras\n",
    "from keras.models import Sequential\n",
    "from src.img_utils import image_to_imagedatagen\n",
    "import pickle\n",
    "import matplotlib.pyplot as plt\n",
    "%matplotlib inline\n",
    "\n",
    "\"\"\"\n",
    "cnn_classifier.py  \n",
    "Linh Chau\n",
    "\"\"\"\n",
    "\n",
    "class CNN_Classifier():\n",
    "    def __init__(self):\n",
    "        self.classifier = None\n",
    "        self.log_file = None\n",
    "\n",
    "    def fit(self, X_train, X_test, batch_size = 32, n_epochs = 15):\n",
    "        self.log_file = f'{X_train}_cnnclassifier_log.csv'\n",
    "        self.classifier.fit(X_train,\n",
    "                            validation_data = X_test,\n",
    "                            steps_per_epoch = len(X_train.filenames) // batch_size,\n",
    "                            validation_steps =  len(X_test.filenames) // batch_size,\n",
    "                            epochs = n_epochs, \n",
    "                            callbacks=[PlotLossesKeras(), CSVLogger(self.log_file,\n",
    "                                        append=False,\n",
    "                                        separator=\";\")], \n",
    "                            # verbose = 1\n",
    "        )\n",
    "\n",
    "    def predict(self, X):\n",
    "        return self.classifier.predict_generator(X)\n",
    "\n",
    "    def compile(self, opt = 'adam', loss_func = 'binary_crossentropy'):\n",
    "        self.classifier.compile(optimizer = opt, loss = loss_func, metrics=['accuracy'])\n",
    "        print(self.classifier.summary())\n",
    "    \n",
    "    def set_architecture(self, img_width, img_height, img_channel):\n",
    "        \"\"\"\n",
    "        Architecture inspired by ...\n",
    "        \"\"\"\n",
    "        input_shape = (img_width, img_height, img_channel)\n",
    "\n",
    "        self.classifier = Sequential()\n",
    "\n",
    "        self.classifier.add(Conv2D(32, (3, 3), input_shape=input_shape))\n",
    "        self.classifier.add(Activation('relu'))\n",
    "        self.classifier.add(MaxPooling2D(pool_size=(2, 2)))\n",
    "\n",
    "        self.classifier.add(Conv2D(64, (3, 3)))\n",
    "        self.classifier.add(Activation('relu'))\n",
    "        self.classifier.add(MaxPooling2D(pool_size=(2, 2)))\n",
    "\n",
    "        self.classifier.add(Conv2D(128, (3, 3)))\n",
    "        self.classifier.add(Activation('relu'))\n",
    "        self.classifier.add(MaxPooling2D(pool_size=(2, 2)))\n",
    "\n",
    "        self.classifier.add(Flatten())\n",
    "        self.classifier.add(Dense(128))\n",
    "        self.classifier.add(Activation('relu'))\n",
    "        self.classifier.add(Dropout(0.5))\n",
    "        self.classifier.add(Dense(1))\n",
    "        self.classifier.add(Activation('sigmoid'))\n",
    "\n",
    "    def metrics(self, X):\n",
    "        return self.classifier.evaluate_generator(X)\n",
    "\n",
    "\n"
   ]
  },
  {
   "cell_type": "code",
   "execution_count": 7,
   "metadata": {},
   "outputs": [
    {
     "name": "stdout",
     "output_type": "stream",
     "text": [
      "Found 2576 images belonging to 2 classes.\n",
      "Found 23155 images belonging to 2 classes.\n"
     ]
    }
   ],
   "source": [
    "# Read in Data\n",
    "datasets = {\n",
    "    'test':'/Users/linhchau/Desktop/galvanize/jewelery_recommender/data/testing_full',\n",
    "    'train':'/Users/linhchau/Desktop/galvanize/jewelery_recommender/data/training_full'\n",
    "}\n",
    "\n",
    "key_to_generator = {k: image_to_imagedatagen(v) for k,v in datasets.items()}\n",
    "\n",
    "# Hyperparameters\n",
    "img_size = 100\n",
    "img_width, img_height = img_size, img_size\n",
    "n_epochs = 15\n",
    "batch_size = 32\n",
    "test_size = 30 ##CHECK THIS\n",
    "channels = 3 # color\n",
    "class_mode = 'binary'\n",
    "\n",
    "input_shape = (img_width, img_height, channels)\n",
    "\n"
   ]
  },
  {
   "cell_type": "code",
   "execution_count": 43,
   "metadata": {},
   "outputs": [
    {
     "data": {
      "text/plain": [
       "['necklaces/113277145.jpg',\n",
       " 'necklaces/118378803.jpg',\n",
       " 'necklaces/139377319.jpg',\n",
       " 'necklaces/161080128.jpg',\n",
       " 'necklaces/202982050.jpg',\n",
       " 'necklaces/210253520.jpg',\n",
       " 'necklaces/210275662.jpg',\n",
       " 'necklaces/230380759.jpg',\n",
       " 'necklaces/244140427.jpg',\n",
       " 'necklaces/244150953.jpg',\n",
       " 'necklaces/246223047.jpg']"
      ]
     },
     "execution_count": 43,
     "metadata": {},
     "output_type": "execute_result"
    }
   ],
   "source": [
    "import re\n",
    "train_ids = key_to_generator['train'].filenames\n",
    "train_ids[0:11]"
   ]
  },
  {
   "cell_type": "code",
   "execution_count": 50,
   "metadata": {},
   "outputs": [],
   "source": [
    "train_files = pd.DataFrame([re.split('[./]', i)[-2] for i in train_ids])\n",
    "train_files.to_csv('data/training_files.csv', index=False, header=False)"
   ]
  },
  {
   "cell_type": "code",
   "execution_count": 34,
   "metadata": {},
   "outputs": [
    {
     "data": {
      "text/plain": [
       "{'necklaces': 0, 'segmented_earrings': 1}"
      ]
     },
     "execution_count": 34,
     "metadata": {},
     "output_type": "execute_result"
    }
   ],
   "source": [
    "key_to_generator['test'].class_indices"
   ]
  },
  {
   "cell_type": "code",
   "execution_count": 8,
   "metadata": {},
   "outputs": [
    {
     "name": "stdout",
     "output_type": "stream",
     "text": [
      "Model: \"sequential_2\"\n",
      "_________________________________________________________________\n",
      "Layer (type)                 Output Shape              Param #   \n",
      "=================================================================\n",
      "conv2d_4 (Conv2D)            (None, 98, 98, 32)        896       \n",
      "_________________________________________________________________\n",
      "activation_6 (Activation)    (None, 98, 98, 32)        0         \n",
      "_________________________________________________________________\n",
      "max_pooling2d_4 (MaxPooling2 (None, 49, 49, 32)        0         \n",
      "_________________________________________________________________\n",
      "conv2d_5 (Conv2D)            (None, 47, 47, 64)        18496     \n",
      "_________________________________________________________________\n",
      "activation_7 (Activation)    (None, 47, 47, 64)        0         \n",
      "_________________________________________________________________\n",
      "max_pooling2d_5 (MaxPooling2 (None, 23, 23, 64)        0         \n",
      "_________________________________________________________________\n",
      "conv2d_6 (Conv2D)            (None, 21, 21, 128)       73856     \n",
      "_________________________________________________________________\n",
      "activation_8 (Activation)    (None, 21, 21, 128)       0         \n",
      "_________________________________________________________________\n",
      "max_pooling2d_6 (MaxPooling2 (None, 10, 10, 128)       0         \n",
      "_________________________________________________________________\n",
      "flatten_2 (Flatten)          (None, 12800)             0         \n",
      "_________________________________________________________________\n",
      "dense_3 (Dense)              (None, 128)               1638528   \n",
      "_________________________________________________________________\n",
      "activation_9 (Activation)    (None, 128)               0         \n",
      "_________________________________________________________________\n",
      "dropout_2 (Dropout)          (None, 128)               0         \n",
      "_________________________________________________________________\n",
      "dense_4 (Dense)              (None, 1)                 129       \n",
      "_________________________________________________________________\n",
      "activation_10 (Activation)   (None, 1)                 0         \n",
      "=================================================================\n",
      "Total params: 1,731,905\n",
      "Trainable params: 1,731,905\n",
      "Non-trainable params: 0\n",
      "_________________________________________________________________\n",
      "None\n"
     ]
    }
   ],
   "source": [
    "model = CNN_Classifier()\n",
    "model.set_architecture(img_width, img_height, channels)\n",
    "model.compile()"
   ]
  },
  {
   "cell_type": "code",
   "execution_count": 9,
   "metadata": {},
   "outputs": [
    {
     "data": {
      "image/png": "[encoded data removed]",
      "text/plain": [
       "<Figure size 864x576 with 2 Axes>"
      ]
     },
     "metadata": {
      "needs_background": "light"
     },
     "output_type": "display_data"
    },
    {
     "name": "stdout",
     "output_type": "stream",
     "text": [
      "Log-loss (cost function):\n",
      "training   (min:    0.050, max:    0.326, cur:    0.050)\n",
      "validation (min:    0.001, max:    0.598, cur:    0.001)\n",
      "\n",
      "accuracy:\n",
      "training   (min:    0.857, max:    0.982, cur:    0.982)\n",
      "validation (min:    0.916, max:    0.965, cur:    0.956)\n"
     ]
    }
   ],
   "source": [
    "model.fit(key_to_generator['train'], key_to_generator['test'])"
   ]
  },
  {
   "cell_type": "code",
   "execution_count": 15,
   "metadata": {},
   "outputs": [
    {
     "data": {
      "text/plain": [
       "[0.0007602183031849563, 0.9553571343421936]"
      ]
     },
     "execution_count": 15,
     "metadata": {},
     "output_type": "execute_result"
    }
   ],
   "source": [
    "model.metrics(key_to_generator['test'])"
   ]
  },
  {
   "cell_type": "code",
   "execution_count": 11,
   "metadata": {},
   "outputs": [],
   "source": [
    "pkl_filename = 'jewelry_final_cnn_classifer.pkl'\n",
    "with open(pkl_filename, 'wb') as file:\n",
    "    pickle.dump(model, file)"
   ]
  },
  {
   "cell_type": "code",
   "execution_count": 17,
   "metadata": {},
   "outputs": [],
   "source": [
    "# Load from file\n",
    "with open('models/jewelry_final_cnn_classifer.pkl', 'rb') as file:\n",
    "    pickle_model = pickle.load(file)"
   ]
  },
  {
   "cell_type": "code",
   "execution_count": 20,
   "metadata": {},
   "outputs": [
    {
     "data": {
      "text/plain": [
       "[0.0007602183031849563, 0.9553571343421936]"
      ]
     },
     "execution_count": 20,
     "metadata": {},
     "output_type": "execute_result"
    }
   ],
   "source": [
    "pickle_model.metrics(key_to_generator['test'])"
   ]
  },
  {
   "cell_type": "code",
   "execution_count": 23,
   "metadata": {},
   "outputs": [],
   "source": [
    "predictions = pickle_model.predict(key_to_generator['test'])"
   ]
  },
  {
   "cell_type": "code",
   "execution_count": 24,
   "metadata": {},
   "outputs": [
    {
     "data": {
      "text/plain": [
       "array([[0.        ],\n",
       "       [0.        ],\n",
       "       [1.        ],\n",
       "       ...,\n",
       "       [0.        ],\n",
       "       [0.40745384],\n",
       "       [0.01409158]], dtype=float32)"
      ]
     },
     "execution_count": 24,
     "metadata": {},
     "output_type": "execute_result"
    }
   ],
   "source": [
    "predictions"
   ]
  }
 ],
 "metadata": {
  "kernelspec": {
   "display_name": "Python 3",
   "language": "python",
   "name": "python3"
  },
  "language_info": {
   "codemirror_mode": {
    "name": "ipython",
    "version": 3
   },
   "file_extension": ".py",
   "mimetype": "text/x-python",
   "name": "python",
   "nbconvert_exporter": "python",
   "pygments_lexer": "ipython3",
   "version": "3.7.3"
  }
 },
 "nbformat": 4,
 "nbformat_minor": 2
}
