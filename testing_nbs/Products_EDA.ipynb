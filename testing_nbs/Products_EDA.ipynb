{
 "cells": [
  {
   "cell_type": "code",
   "execution_count": 1,
   "metadata": {},
   "outputs": [],
   "source": [
    "import json\n",
    "import numpy as np\n",
    "import pandas as pd\n",
    "import matplotlib.pyplot as plt\n",
    "from pandas.io.json import json_normalize\n",
    "import collections\n",
    "from scipy import stats\n",
    "\n",
    "%matplotlib inline"
   ]
  },
  {
   "cell_type": "markdown",
   "metadata": {},
   "source": [
    "# Examining Product Metadata"
   ]
  },
  {
   "cell_type": "code",
   "execution_count": 2,
   "metadata": {
    "scrolled": true
   },
   "outputs": [
    {
     "name": "stdout",
     "output_type": "stream",
     "text": [
      "0\n",
      "500\n",
      "1000\n",
      "1500\n",
      "2000\n",
      "2500\n",
      "3000\n",
      "3500\n",
      "4000\n",
      "4500\n",
      "5000\n",
      "5500\n",
      "6000\n",
      "6500\n",
      "7000\n",
      "7500\n",
      "8000\n",
      "8500\n",
      "9000\n",
      "9500\n",
      "10000\n",
      "10500\n",
      "11000\n",
      "11500\n",
      "12000\n",
      "12500\n",
      "13000\n",
      "13500\n",
      "14000\n",
      "14500\n",
      "15000\n",
      "15500\n",
      "16000\n",
      "16500\n",
      "17000\n",
      "17500\n",
      "18000\n",
      "18500\n",
      "19000\n",
      "19500\n",
      "20000\n",
      "20500\n",
      "21000\n",
      "21500\n",
      "22000\n",
      "22500\n",
      "23000\n",
      "23500\n",
      "24000\n",
      "24500\n",
      "25000\n",
      "25500\n",
      "26000\n",
      "26500\n",
      "27000\n",
      "27500\n",
      "28000\n",
      "28500\n",
      "29000\n",
      "29500\n",
      "30000\n",
      "30500\n"
     ]
    }
   ],
   "source": [
    "PRODUCTS_FILEPATH = 'data/products.csv'\n",
    "\n",
    "id_to_product = {}\n",
    "\n",
    "with open(PRODUCTS_FILEPATH, 'r') as f:\n",
    "    for i, row in enumerate(f):\n",
    "        if i % 500 == 0:\n",
    "            print(i)\n",
    "        for product in json.loads(row):\n",
    "            id_to_product[product['id']] = product"
   ]
  },
  {
   "cell_type": "code",
   "execution_count": 3,
   "metadata": {},
   "outputs": [
    {
     "name": "stdout",
     "output_type": "stream",
     "text": [
      "Counter({72: 9401, 73: 6937, 70: 4507, 75: 4099})\n"
     ]
    }
   ],
   "source": [
    "ids = list(id_to_product.keys())\n",
    "\n",
    "id_to_category = {}\n",
    "for product in id_to_product.values():\n",
    "    for category in product['categories']:\n",
    "        id_to_category[category['numId']] = category\n",
    "\n",
    "category_ids_of_interest = set([\n",
    "    70, # bracelets\n",
    "    73, # necklaces\n",
    "    75, # rings\n",
    "    72, # earrings\n",
    "])\n",
    "\n",
    "category_to_count = collections.Counter()\n",
    "category_to_products = collections.defaultdict(set)\n",
    "\n",
    "i = 0\n",
    "for product in id_to_product.values():\n",
    "    category_ids = set(category['numId'] for category in product['categories'])\n",
    "    ids_in_common = category_ids & category_ids_of_interest\n",
    "    if len(ids_in_common) != 1:\n",
    "        i += 1\n",
    "    else:\n",
    "        category_to_count[list(ids_in_common)[0]] += 1\n",
    "        category_id = list(ids_in_common)[0]\n",
    "        category_to_products[category_id].add(product['id'])\n",
    "print(category_to_count)\n",
    "\n",
    "\n",
    "# for category in id_to_category.values():\n",
    "#     print(category)\n",
    "        "
   ]
  },
  {
   "cell_type": "code",
   "execution_count": 4,
   "metadata": {},
   "outputs": [
    {
     "name": "stdout",
     "output_type": "stream",
     "text": [
      "<class 'pandas.core.frame.DataFrame'>\n",
      "Int64Index: 25100 entries, 7242404 to 810860938\n",
      "Data columns (total 31 columns):\n",
      "id                     25100 non-null int64\n",
      "name                   25100 non-null object\n",
      "brandedName            25100 non-null object\n",
      "unbrandedName          25100 non-null object\n",
      "currency               25100 non-null object\n",
      "price                  25100 non-null float64\n",
      "priceLabel             25100 non-null object\n",
      "inStock                25100 non-null bool\n",
      "retailer               25100 non-null object\n",
      "brand                  24704 non-null object\n",
      "description            25100 non-null object\n",
      "clickUrl               25100 non-null object\n",
      "clusterUrl             24704 non-null object\n",
      "urlIdentifier          25100 non-null object\n",
      "indexable              25100 non-null bool\n",
      "image                  25100 non-null object\n",
      "colors                 25100 non-null object\n",
      "sizes                  25100 non-null object\n",
      "categories             25100 non-null object\n",
      "promotionalDeal        18407 non-null object\n",
      "hasFavorite            25100 non-null bool\n",
      "preOwned               25100 non-null bool\n",
      "rental                 25100 non-null bool\n",
      "cashBack               13857 non-null object\n",
      "maxPrice               344 non-null float64\n",
      "priceRangeLabel        344 non-null object\n",
      "salePrice              7863 non-null float64\n",
      "salePriceLabel         7863 non-null object\n",
      "maxSalePrice           205 non-null float64\n",
      "maxSalePriceLabel      205 non-null object\n",
      "salePriceRangeLabel    205 non-null object\n",
      "dtypes: bool(5), float64(4), int64(1), object(21)\n",
      "memory usage: 5.3+ MB\n"
     ]
    }
   ],
   "source": [
    "items = pd.DataFrame.from_dict(id_to_product, orient='index')\n",
    "items.info()"
   ]
  },
  {
   "cell_type": "code",
   "execution_count": 5,
   "metadata": {},
   "outputs": [
    {
     "data": {
      "text/html": [
       "<div>\n",
       "<style scoped>\n",
       "    .dataframe tbody tr th:only-of-type {\n",
       "        vertical-align: middle;\n",
       "    }\n",
       "\n",
       "    .dataframe tbody tr th {\n",
       "        vertical-align: top;\n",
       "    }\n",
       "\n",
       "    .dataframe thead th {\n",
       "        text-align: right;\n",
       "    }\n",
       "</style>\n",
       "<table border=\"1\" class=\"dataframe\">\n",
       "  <thead>\n",
       "    <tr style=\"text-align: right;\">\n",
       "      <th></th>\n",
       "      <th>id</th>\n",
       "      <th>name</th>\n",
       "      <th>brandedName</th>\n",
       "      <th>unbrandedName</th>\n",
       "      <th>currency</th>\n",
       "      <th>price</th>\n",
       "      <th>priceLabel</th>\n",
       "      <th>inStock</th>\n",
       "      <th>retailer</th>\n",
       "      <th>brand</th>\n",
       "      <th>...</th>\n",
       "      <th>rental</th>\n",
       "      <th>cashBack</th>\n",
       "      <th>maxPrice</th>\n",
       "      <th>priceRangeLabel</th>\n",
       "      <th>salePrice</th>\n",
       "      <th>salePriceLabel</th>\n",
       "      <th>maxSalePrice</th>\n",
       "      <th>maxSalePriceLabel</th>\n",
       "      <th>salePriceRangeLabel</th>\n",
       "      <th>category_numID</th>\n",
       "    </tr>\n",
       "  </thead>\n",
       "  <tbody>\n",
       "    <tr>\n",
       "      <th>7242404</th>\n",
       "      <td>7242404</td>\n",
       "      <td>Gurhan Women&amp;s;s Amulet 24K Yellow Gold Dome D...</td>\n",
       "      <td>Gurhan Women&amp;s;s Amulet 24K Yellow Gold Dome D...</td>\n",
       "      <td>Women&amp;s;s Amulet 24K Yellow Gold Dome Drop Ear...</td>\n",
       "      <td>USD</td>\n",
       "      <td>1850.0</td>\n",
       "      <td>$1,850</td>\n",
       "      <td>True</td>\n",
       "      <td>{'name': 'Saks Fifth Avenue'}</td>\n",
       "      <td>{'name': 'Gurhan'}</td>\n",
       "      <td>...</td>\n",
       "      <td>False</td>\n",
       "      <td>{'type': 'Percent', 'hasTiers': False, 'title'...</td>\n",
       "      <td>NaN</td>\n",
       "      <td>NaN</td>\n",
       "      <td>NaN</td>\n",
       "      <td>NaN</td>\n",
       "      <td>NaN</td>\n",
       "      <td>NaN</td>\n",
       "      <td>NaN</td>\n",
       "      <td>72</td>\n",
       "    </tr>\n",
       "    <tr>\n",
       "      <th>7636349</th>\n",
       "      <td>7636349</td>\n",
       "      <td>Royalty Inspired by Effy Sapphire (1-9/10 ct. ...</td>\n",
       "      <td>Effy Royalty Inspired by Sapphire (1-9/10 ct. ...</td>\n",
       "      <td>Royalty Inspired by Sapphire (1-9/10 ct. t.w.)...</td>\n",
       "      <td>USD</td>\n",
       "      <td>2300.0</td>\n",
       "      <td>$2,300</td>\n",
       "      <td>True</td>\n",
       "      <td>{'name': 'Macy&amp;s;s'}</td>\n",
       "      <td>{'name': 'Effy'}</td>\n",
       "      <td>...</td>\n",
       "      <td>False</td>\n",
       "      <td>{'type': 'Percent', 'hasTiers': False, 'title'...</td>\n",
       "      <td>NaN</td>\n",
       "      <td>NaN</td>\n",
       "      <td>1150.0</td>\n",
       "      <td>$1,150</td>\n",
       "      <td>NaN</td>\n",
       "      <td>NaN</td>\n",
       "      <td>NaN</td>\n",
       "      <td>73</td>\n",
       "    </tr>\n",
       "    <tr>\n",
       "      <th>26292586</th>\n",
       "      <td>26292586</td>\n",
       "      <td>Le Vian Chocolate Diamond (3/4 ct. t.w.) and W...</td>\n",
       "      <td>LeVian Le Vian Chocolate Diamond (3/4 ct. t.w....</td>\n",
       "      <td>Le Vian Chocolate Diamond (3/4 ct. t.w.) and W...</td>\n",
       "      <td>USD</td>\n",
       "      <td>1900.0</td>\n",
       "      <td>$1,900</td>\n",
       "      <td>True</td>\n",
       "      <td>{'name': 'Macy&amp;s;s'}</td>\n",
       "      <td>{'name': 'LeVian'}</td>\n",
       "      <td>...</td>\n",
       "      <td>False</td>\n",
       "      <td>{'type': 'Percent', 'hasTiers': False, 'title'...</td>\n",
       "      <td>NaN</td>\n",
       "      <td>NaN</td>\n",
       "      <td>1140.0</td>\n",
       "      <td>$1,140</td>\n",
       "      <td>NaN</td>\n",
       "      <td>NaN</td>\n",
       "      <td>NaN</td>\n",
       "      <td>420</td>\n",
       "    </tr>\n",
       "    <tr>\n",
       "      <th>26334781</th>\n",
       "      <td>26334781</td>\n",
       "      <td>Royalty Inspired by Effy Emerald (5/8 ct. t.w....</td>\n",
       "      <td>Effy Royalty Inspired by Emerald (5/8 ct. t.w....</td>\n",
       "      <td>Royalty Inspired by Emerald (5/8 ct. t.w.) and...</td>\n",
       "      <td>USD</td>\n",
       "      <td>800.0</td>\n",
       "      <td>$800</td>\n",
       "      <td>True</td>\n",
       "      <td>{'name': 'Macy&amp;s;s'}</td>\n",
       "      <td>{'name': 'Effy'}</td>\n",
       "      <td>...</td>\n",
       "      <td>False</td>\n",
       "      <td>{'type': 'Percent', 'hasTiers': False, 'title'...</td>\n",
       "      <td>NaN</td>\n",
       "      <td>NaN</td>\n",
       "      <td>400.0</td>\n",
       "      <td>$400</td>\n",
       "      <td>NaN</td>\n",
       "      <td>NaN</td>\n",
       "      <td>NaN</td>\n",
       "      <td>68</td>\n",
       "    </tr>\n",
       "    <tr>\n",
       "      <th>31658464</th>\n",
       "      <td>31658464</td>\n",
       "      <td>Majorica Women&amp;s;s 11mm Round Simulated Pearl ...</td>\n",
       "      <td>Majorica Women&amp;s;s 11mm Round Simulated Pearl ...</td>\n",
       "      <td>Women&amp;s;s 11mm Round Simulated Pearl Stud Earr...</td>\n",
       "      <td>USD</td>\n",
       "      <td>80.0</td>\n",
       "      <td>$80</td>\n",
       "      <td>True</td>\n",
       "      <td>{'name': 'Bloomingdale&amp;s;s'}</td>\n",
       "      <td>{'name': 'Majorica'}</td>\n",
       "      <td>...</td>\n",
       "      <td>False</td>\n",
       "      <td>{'type': 'Percent', 'hasTiers': False, 'title'...</td>\n",
       "      <td>NaN</td>\n",
       "      <td>NaN</td>\n",
       "      <td>NaN</td>\n",
       "      <td>NaN</td>\n",
       "      <td>NaN</td>\n",
       "      <td>NaN</td>\n",
       "      <td>NaN</td>\n",
       "      <td>72</td>\n",
       "    </tr>\n",
       "  </tbody>\n",
       "</table>\n",
       "<p>5 rows × 32 columns</p>\n",
       "</div>"
      ],
      "text/plain": [
       "                id                                               name  \\\n",
       "7242404    7242404  Gurhan Women&s;s Amulet 24K Yellow Gold Dome D...   \n",
       "7636349    7636349  Royalty Inspired by Effy Sapphire (1-9/10 ct. ...   \n",
       "26292586  26292586  Le Vian Chocolate Diamond (3/4 ct. t.w.) and W...   \n",
       "26334781  26334781  Royalty Inspired by Effy Emerald (5/8 ct. t.w....   \n",
       "31658464  31658464  Majorica Women&s;s 11mm Round Simulated Pearl ...   \n",
       "\n",
       "                                                brandedName  \\\n",
       "7242404   Gurhan Women&s;s Amulet 24K Yellow Gold Dome D...   \n",
       "7636349   Effy Royalty Inspired by Sapphire (1-9/10 ct. ...   \n",
       "26292586  LeVian Le Vian Chocolate Diamond (3/4 ct. t.w....   \n",
       "26334781  Effy Royalty Inspired by Emerald (5/8 ct. t.w....   \n",
       "31658464  Majorica Women&s;s 11mm Round Simulated Pearl ...   \n",
       "\n",
       "                                              unbrandedName currency   price  \\\n",
       "7242404   Women&s;s Amulet 24K Yellow Gold Dome Drop Ear...      USD  1850.0   \n",
       "7636349   Royalty Inspired by Sapphire (1-9/10 ct. t.w.)...      USD  2300.0   \n",
       "26292586  Le Vian Chocolate Diamond (3/4 ct. t.w.) and W...      USD  1900.0   \n",
       "26334781  Royalty Inspired by Emerald (5/8 ct. t.w.) and...      USD   800.0   \n",
       "31658464  Women&s;s 11mm Round Simulated Pearl Stud Earr...      USD    80.0   \n",
       "\n",
       "         priceLabel  inStock                       retailer  \\\n",
       "7242404      $1,850     True  {'name': 'Saks Fifth Avenue'}   \n",
       "7636349      $2,300     True           {'name': 'Macy&s;s'}   \n",
       "26292586     $1,900     True           {'name': 'Macy&s;s'}   \n",
       "26334781       $800     True           {'name': 'Macy&s;s'}   \n",
       "31658464        $80     True   {'name': 'Bloomingdale&s;s'}   \n",
       "\n",
       "                         brand  ... rental  \\\n",
       "7242404     {'name': 'Gurhan'}  ...  False   \n",
       "7636349       {'name': 'Effy'}  ...  False   \n",
       "26292586    {'name': 'LeVian'}  ...  False   \n",
       "26334781      {'name': 'Effy'}  ...  False   \n",
       "31658464  {'name': 'Majorica'}  ...  False   \n",
       "\n",
       "                                                   cashBack maxPrice  \\\n",
       "7242404   {'type': 'Percent', 'hasTiers': False, 'title'...      NaN   \n",
       "7636349   {'type': 'Percent', 'hasTiers': False, 'title'...      NaN   \n",
       "26292586  {'type': 'Percent', 'hasTiers': False, 'title'...      NaN   \n",
       "26334781  {'type': 'Percent', 'hasTiers': False, 'title'...      NaN   \n",
       "31658464  {'type': 'Percent', 'hasTiers': False, 'title'...      NaN   \n",
       "\n",
       "         priceRangeLabel  salePrice salePriceLabel maxSalePrice  \\\n",
       "7242404              NaN        NaN            NaN          NaN   \n",
       "7636349              NaN     1150.0         $1,150          NaN   \n",
       "26292586             NaN     1140.0         $1,140          NaN   \n",
       "26334781             NaN      400.0           $400          NaN   \n",
       "31658464             NaN        NaN            NaN          NaN   \n",
       "\n",
       "         maxSalePriceLabel salePriceRangeLabel category_numID  \n",
       "7242404                NaN                 NaN             72  \n",
       "7636349                NaN                 NaN             73  \n",
       "26292586               NaN                 NaN            420  \n",
       "26334781               NaN                 NaN             68  \n",
       "31658464               NaN                 NaN             72  \n",
       "\n",
       "[5 rows x 32 columns]"
      ]
     },
     "execution_count": 5,
     "metadata": {},
     "output_type": "execute_result"
    }
   ],
   "source": [
    "def split_category(item):\n",
    "    for i in item:\n",
    "        return(i['numId'])\n",
    "    \n",
    "items['category_numID'] = items['categories'].apply(split_category)\n",
    "items.head()"
   ]
  },
  {
   "cell_type": "code",
   "execution_count": 73,
   "metadata": {},
   "outputs": [],
   "source": [
    "items[['id', 'name', 'price', 'clickUrl', 'category_numID']].to_csv('data/product_metadata.csv', index =False)"
   ]
  },
  {
   "cell_type": "code",
   "execution_count": 69,
   "metadata": {},
   "outputs": [
    {
     "data": {
      "text/plain": [
       "'https://www.shopstyle.com/action/loadRetailerProductPage?id=33037301'"
      ]
     },
     "execution_count": 69,
     "metadata": {},
     "output_type": "execute_result"
    }
   ],
   "source": [
    "items['clickUrl'].iloc[5]"
   ]
  },
  {
   "cell_type": "code",
   "execution_count": 6,
   "metadata": {},
   "outputs": [
    {
     "name": "stdout",
     "output_type": "stream",
     "text": [
      "Minimum Price: 2.0\n",
      "Maximum Price: 300000.0\n"
     ]
    },
    {
     "data": {
      "image/png": "[encoded data removed]",
      "text/plain": [
       "<Figure size 432x288 with 1 Axes>"
      ]
     },
     "metadata": {
      "needs_background": "light"
     },
     "output_type": "display_data"
    }
   ],
   "source": [
    "plt.hist(items.price, bins=100); \n",
    "print(f'Minimum Price: {min(items.price)}')\n",
    "print(f'Maximum Price: {max(items.price)}')"
   ]
  },
  {
   "cell_type": "code",
   "execution_count": 7,
   "metadata": {},
   "outputs": [
    {
     "data": {
      "text/plain": [
       "<matplotlib.axes._subplots.AxesSubplot at 0x1a2e212f28>"
      ]
     },
     "execution_count": 7,
     "metadata": {},
     "output_type": "execute_result"
    },
    {
     "data": {
      "image/png": "[encoded data removed]",
      "text/plain": [
       "<Figure size 432x288 with 1 Axes>"
      ]
     },
     "metadata": {
      "needs_background": "light"
     },
     "output_type": "display_data"
    }
   ],
   "source": [
    "items_of_interest = items[items['category_numID'].isin(category_ids_of_interest)]\n",
    "items_of_interest.boxplot('price', by='category_numID')"
   ]
  },
  {
   "cell_type": "code",
   "execution_count": 8,
   "metadata": {},
   "outputs": [
    {
     "data": {
      "image/png": "[encoded data removed]",
      "text/plain": [
       "<Figure size 432x288 with 4 Axes>"
      ]
     },
     "metadata": {
      "needs_background": "light"
     },
     "output_type": "display_data"
    }
   ],
   "source": [
    "items_of_interest.groupby('category_numID')['price'].agg(['median', 'mean', 'min', 'max'])\n",
    "items_of_interest['price'].hist(by=items_of_interest['category_numID'], bins = 100); "
   ]
  },
  {
   "cell_type": "code",
   "execution_count": 9,
   "metadata": {},
   "outputs": [
    {
     "name": "stdout",
     "output_type": "stream",
     "text": [
      "F-stat = 27.838669066685274; p-val = 5.857205066193923e-18\n"
     ]
    }
   ],
   "source": [
    "F, p = stats.f_oneway(items_of_interest['price'][items_of_interest['category_numID'] == 70], \n",
    "             items_of_interest['price'][items_of_interest['category_numID'] == 72],\n",
    "             items_of_interest['price'][items_of_interest['category_numID'] == 73],\n",
    "            items_of_interest['price'][items_of_interest['category_numID'] == 75])\n",
    "print(f'F-stat = {F}; p-val = {p}')"
   ]
  },
  {
   "cell_type": "markdown",
   "metadata": {},
   "source": [
    "# Just focusing on necklaces and earrings"
   ]
  },
  {
   "cell_type": "code",
   "execution_count": 10,
   "metadata": {},
   "outputs": [],
   "source": [
    "necklace_earrings_cat_ids = set([\n",
    "    73, # necklaces\n",
    "    72, # earrings\n",
    "])"
   ]
  },
  {
   "cell_type": "code",
   "execution_count": 12,
   "metadata": {},
   "outputs": [
    {
     "data": {
      "text/plain": [
       "14372"
      ]
     },
     "execution_count": 12,
     "metadata": {},
     "output_type": "execute_result"
    }
   ],
   "source": [
    "necklace_earrings_items = items[items['category_numID'].isin(necklace_earrings_cat_ids)]\n",
    "len(necklace_earrings_items)"
   ]
  },
  {
   "cell_type": "code",
   "execution_count": 23,
   "metadata": {},
   "outputs": [
    {
     "data": {
      "image/png": "[encoded data removed]",
      "text/plain": [
       "<Figure size 432x288 with 1 Axes>"
      ]
     },
     "metadata": {
      "needs_background": "light"
     },
     "output_type": "display_data"
    }
   ],
   "source": [
    "plt.hist(necklace_earrings_items[necklace_earrings_items['category_numID'] == 73]['price']);"
   ]
  },
  {
   "cell_type": "code",
   "execution_count": 29,
   "metadata": {},
   "outputs": [
    {
     "name": "stderr",
     "output_type": "stream",
     "text": [
      "/Users/linhchau/anaconda3/lib/python3.7/site-packages/ipykernel_launcher.py:3: SettingWithCopyWarning: \n",
      "A value is trying to be set on a copy of a slice from a DataFrame.\n",
      "Try using .loc[row_indexer,col_indexer] = value instead\n",
      "\n",
      "See the caveats in the documentation: http://pandas.pydata.org/pandas-docs/stable/indexing.html#indexing-view-versus-copy\n",
      "  This is separate from the ipykernel package so we can avoid doing imports until\n"
     ]
    }
   ],
   "source": [
    "# necklace_earrings_items[necklace_earrings_items['category_numID'] == 73]['price']\n",
    "\n",
    "necklace_earrings_items['z_score_price'] = necklace_earrings_items.groupby('category_numID')['price'].apply(lambda x: ((x - x.mean())/x.std()).abs())"
   ]
  },
  {
   "cell_type": "code",
   "execution_count": 34,
   "metadata": {},
   "outputs": [
    {
     "data": {
      "text/plain": [
       "14317"
      ]
     },
     "execution_count": 34,
     "metadata": {},
     "output_type": "execute_result"
    }
   ],
   "source": [
    "len(necklace_earrings_items[necklace_earrings_items['z_score_price'] < 3])"
   ]
  },
  {
   "cell_type": "code",
   "execution_count": 35,
   "metadata": {},
   "outputs": [],
   "source": [
    "filtered_df = necklace_earrings_items[necklace_earrings_items['z_score_price'] < 3]"
   ]
  },
  {
   "cell_type": "code",
   "execution_count": 42,
   "metadata": {},
   "outputs": [
    {
     "data": {
      "text/plain": [
       "5901"
      ]
     },
     "execution_count": 42,
     "metadata": {},
     "output_type": "execute_result"
    }
   ],
   "source": [
    "len(filtered_df[filtered_df['category_numID'] == 73])"
   ]
  },
  {
   "cell_type": "code",
   "execution_count": 43,
   "metadata": {},
   "outputs": [
    {
     "data": {
      "text/plain": [
       "8416"
      ]
     },
     "execution_count": 43,
     "metadata": {},
     "output_type": "execute_result"
    }
   ],
   "source": [
    "len(filtered_df[filtered_df['category_numID'] == 72])"
   ]
  },
  {
   "cell_type": "code",
   "execution_count": 41,
   "metadata": {},
   "outputs": [
    {
     "data": {
      "image/png": "[encoded data removed]",
      "text/plain": [
       "<Figure size 432x288 with 1 Axes>"
      ]
     },
     "metadata": {
      "needs_background": "light"
     },
     "output_type": "display_data"
    }
   ],
   "source": [
    "# Necklaces\n",
    "plt.hist(filtered_df[filtered_df['category_numID'] == 73]['price']); "
   ]
  },
  {
   "cell_type": "code",
   "execution_count": 39,
   "metadata": {},
   "outputs": [
    {
     "data": {
      "image/png": "[encoded data removed]",
      "text/plain": [
       "<Figure size 432x288 with 1 Axes>"
      ]
     },
     "metadata": {
      "needs_background": "light"
     },
     "output_type": "display_data"
    }
   ],
   "source": [
    "# Earrings\n",
    "plt.hist(filtered_df[filtered_df['category_numID'] == 72]['price']); "
   ]
  },
  {
   "cell_type": "code",
   "execution_count": 58,
   "metadata": {},
   "outputs": [
    {
     "data": {
      "text/plain": [
       "4123"
      ]
     },
     "execution_count": 58,
     "metadata": {},
     "output_type": "execute_result"
    }
   ],
   "source": [
    "len(filtered_df[(filtered_df['category_numID'] == 73) & (filtered_df['price'] <= 500)])"
   ]
  },
  {
   "cell_type": "code",
   "execution_count": 59,
   "metadata": {},
   "outputs": [
    {
     "data": {
      "text/plain": [
       "6951"
      ]
     },
     "execution_count": 59,
     "metadata": {},
     "output_type": "execute_result"
    }
   ],
   "source": [
    "len(filtered_df[(filtered_df['category_numID'] == 72) & (filtered_df['price'] <= 500)])"
   ]
  },
  {
   "cell_type": "code",
   "execution_count": null,
   "metadata": {},
   "outputs": [],
   "source": []
  }
 ],
 "metadata": {
  "kernelspec": {
   "display_name": "Python 3",
   "language": "python",
   "name": "python3"
  },
  "language_info": {
   "codemirror_mode": {
    "name": "ipython",
    "version": 3
   },
   "file_extension": ".py",
   "mimetype": "text/x-python",
   "name": "python",
   "nbconvert_exporter": "python",
   "pygments_lexer": "ipython3",
   "version": "3.7.3"
  }
 },
 "nbformat": 4,
 "nbformat_minor": 2
}
