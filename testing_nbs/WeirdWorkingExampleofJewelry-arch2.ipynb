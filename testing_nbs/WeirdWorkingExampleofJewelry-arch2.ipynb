{
 "cells": [
  {
   "cell_type": "code",
   "execution_count": 1,
   "metadata": {},
   "outputs": [
    {
     "name": "stderr",
     "output_type": "stream",
     "text": [
      "Using TensorFlow backend.\n"
     ]
    }
   ],
   "source": [
    "import cv2\n",
    "import numpy as np\n",
    "import os\n",
    "import tensorflow as tf\n",
    "from tqdm import tqdm\n",
    "%matplotlib inline\n",
    "import matplotlib.pyplot as plt\n",
    "from keras.preprocessing.image import ImageDataGenerator\n",
    "from keras.layers import Input, Dense, Conv2D, MaxPooling2D, UpSampling2D, Flatten\n",
    "from keras.models import Model\n",
    "import numpy as np\n",
    "import pandas as pd\n",
    "import os\n",
    "import sys\n",
    "from keras.optimizers import Adam\n",
    "import skimage.io\n",
    "from multiprocessing import Pool\n",
    "import tensorflow as tf\n",
    "from sklearn.neighbors import NearestNeighbors\n",
    "import pickle\n",
    "import re"
   ]
  },
  {
   "cell_type": "markdown",
   "metadata": {},
   "source": [
    "# Prep and input of data"
   ]
  },
  {
   "cell_type": "code",
   "execution_count": 2,
   "metadata": {},
   "outputs": [],
   "source": [
    "train_data = 'data/training/necklaces'\n",
    "test_data = 'data/testing/necklaces'"
   ]
  },
  {
   "cell_type": "code",
   "execution_count": 3,
   "metadata": {},
   "outputs": [],
   "source": [
    "img_size = 100"
   ]
  },
  {
   "cell_type": "code",
   "execution_count": 4,
   "metadata": {},
   "outputs": [],
   "source": [
    "def train_data_with_label():\n",
    "    train_images = []\n",
    "    train_ids = []\n",
    "    for i in tqdm(os.listdir(train_data)):\n",
    "        path = os.path.join(train_data, i)\n",
    "        train_ids.append(path)\n",
    "        img = cv2.imread(path, cv2.IMREAD_COLOR)\n",
    "        img = cv2.resize(img, (img_size,img_size))\n",
    "        train_images.append(np.array(img))\n",
    "#         shuffle(train_images)\n",
    "    return train_images, train_ids\n",
    "\n",
    "def test_data_with_label():\n",
    "    test_images = []\n",
    "    test_ids = []\n",
    "    for i in tqdm(os.listdir(test_data)):\n",
    "        path = os.path.join(test_data, i)\n",
    "        test_ids.append(path)\n",
    "        img = cv2.imread(path, cv2.IMREAD_COLOR)\n",
    "        img = cv2.resize(img, (img_size,img_size))\n",
    "        test_images.append(np.array(img))\n",
    "    return test_images, test_ids"
   ]
  },
  {
   "cell_type": "code",
   "execution_count": 5,
   "metadata": {},
   "outputs": [
    {
     "name": "stderr",
     "output_type": "stream",
     "text": [
      "100%|██████████| 500/500 [00:03<00:00, 163.96it/s]\n",
      "100%|██████████| 1000/1000 [00:06<00:00, 167.47it/s]\n"
     ]
    }
   ],
   "source": [
    "# Get the images and put them into np arrays and resize them; Also keeping track of the product ids\n",
    "testing_images, testing_ids = test_data_with_label()\n",
    "training_images, training_ids = train_data_with_label()"
   ]
  },
  {
   "cell_type": "code",
   "execution_count": 6,
   "metadata": {},
   "outputs": [],
   "source": [
    "def read_images_in_dir(datadir, img_height, img_width):\n",
    "    images = []\n",
    "    image_ids = []\n",
    "    for i in tqdm(os.listdir(datadir)):\n",
    "        path = os.path.join(datadir, i)\n",
    "        image_ids.append(os.path.splitext(os.path.basename(path))[0])\n",
    "        img = cv2.imread(path, cv2.IMREAD_COLOR)\n",
    "        img = cv2.resize(img, (img_height, img_width))\n",
    "        images.append(np.array(img))\n",
    "    return images, image_ids "
   ]
  },
  {
   "cell_type": "code",
   "execution_count": 7,
   "metadata": {},
   "outputs": [
    {
     "name": "stderr",
     "output_type": "stream",
     "text": [
      "100%|██████████| 500/500 [00:02<00:00, 184.38it/s]\n"
     ]
    }
   ],
   "source": [
    "a, b = read_images_in_dir('data/testing/necklaces', 100, 100)"
   ]
  },
  {
   "cell_type": "code",
   "execution_count": 8,
   "metadata": {},
   "outputs": [
    {
     "data": {
      "text/plain": [
       "['785053996',\n",
       " '465332558',\n",
       " '787758991',\n",
       " '770897518',\n",
       " '732642851',\n",
       " '777440652',\n",
       " '761621519',\n",
       " '794362901',\n",
       " '761768131',\n",
       " '809953296',\n",
       " '809006600',\n",
       " '793924264',\n",
       " '797226965',\n",
       " '803129135',\n",
       " '803677548',\n",
       " '783355801',\n",
       " '788076453',\n",
       " '533313074',\n",
       " '697549012',\n",
       " '753087297',\n",
       " '732408711',\n",
       " '751681039',\n",
       " '464686136',\n",
       " '801083808',\n",
       " '800122451',\n",
       " '437859008',\n",
       " '791730890',\n",
       " '796546919',\n",
       " '809303648',\n",
       " '741514802',\n",
       " '803740293',\n",
       " '782337001',\n",
       " '808859485',\n",
       " '797515305',\n",
       " '746004048',\n",
       " '765078076',\n",
       " '810249018',\n",
       " '807174937',\n",
       " '807791276',\n",
       " '774668971',\n",
       " '732395046',\n",
       " '786222267',\n",
       " '784975380',\n",
       " '801626418',\n",
       " '807372124',\n",
       " '740327015',\n",
       " '807142077',\n",
       " '793035703',\n",
       " '801224826',\n",
       " '809044784',\n",
       " '808070907',\n",
       " '747656251',\n",
       " '763897378',\n",
       " '807187075',\n",
       " '792843711',\n",
       " '791188996',\n",
       " '643583777',\n",
       " '808394813',\n",
       " '740326914',\n",
       " '792564086',\n",
       " '775061770',\n",
       " '771567415',\n",
       " '798944035',\n",
       " '740759102',\n",
       " '751232229',\n",
       " '770887651',\n",
       " '788510056',\n",
       " '788035784',\n",
       " '694695131',\n",
       " '803739190',\n",
       " '465334073',\n",
       " '760853294',\n",
       " '506702955',\n",
       " '683027664',\n",
       " '778507947',\n",
       " '806218210',\n",
       " '754595957',\n",
       " '789948211',\n",
       " '713404266',\n",
       " '806818165',\n",
       " '739753552',\n",
       " '686419610',\n",
       " '796853379',\n",
       " '808911412',\n",
       " '746970212',\n",
       " '760127747',\n",
       " '757961462',\n",
       " '774496958',\n",
       " '809525605',\n",
       " '680626463',\n",
       " '752892861',\n",
       " '784479322',\n",
       " '746208357',\n",
       " '683007763',\n",
       " '695589305',\n",
       " '794719204',\n",
       " '788076457',\n",
       " '700744273',\n",
       " '755448148',\n",
       " '796587777',\n",
       " '807791258',\n",
       " '728569444',\n",
       " '801260469',\n",
       " '789800929',\n",
       " '788510097',\n",
       " '797152241',\n",
       " '750025411',\n",
       " '796742281',\n",
       " '609177353',\n",
       " '789602306',\n",
       " '809658480',\n",
       " '779327304',\n",
       " '774760522',\n",
       " '733930067',\n",
       " '797604670',\n",
       " '796742225',\n",
       " '750956999',\n",
       " '781016779',\n",
       " '782322120',\n",
       " '805568488',\n",
       " '788398801',\n",
       " '752026114',\n",
       " '531913283',\n",
       " '800397620',\n",
       " '800967467',\n",
       " '732610033',\n",
       " '760576837',\n",
       " '765834853',\n",
       " '741625554',\n",
       " '798071050',\n",
       " '797780311',\n",
       " '810429299',\n",
       " '810249044',\n",
       " '462714183',\n",
       " '792346811',\n",
       " '760318608',\n",
       " '767666623',\n",
       " '809950514',\n",
       " '809980906',\n",
       " '800114584',\n",
       " '777269172',\n",
       " '768164824',\n",
       " '787546234',\n",
       " '739990039',\n",
       " '638509707',\n",
       " '797812135',\n",
       " '783199432',\n",
       " '801135501',\n",
       " '807908364',\n",
       " '723390019',\n",
       " '789420810',\n",
       " '803231159',\n",
       " '808865902',\n",
       " '708092363',\n",
       " '713859612',\n",
       " '659637808',\n",
       " '788881015',\n",
       " '751762102',\n",
       " '791749115',\n",
       " '624594164',\n",
       " '755327389',\n",
       " '780950683',\n",
       " '682961895',\n",
       " '804965021',\n",
       " '686429039',\n",
       " '803141028',\n",
       " '784037585',\n",
       " '531991283',\n",
       " '793399341',\n",
       " '787551164',\n",
       " '792887447',\n",
       " '810143934',\n",
       " '810142155',\n",
       " '788093441',\n",
       " '773982790',\n",
       " '803739109',\n",
       " '720461138',\n",
       " '791743767',\n",
       " '803595514',\n",
       " '786252085',\n",
       " '782908938',\n",
       " '791075717',\n",
       " '746302178',\n",
       " '708910858',\n",
       " '645738101',\n",
       " '465332897',\n",
       " '787964225',\n",
       " '808043202',\n",
       " '804934535',\n",
       " '792154666',\n",
       " '454830630',\n",
       " '787134456',\n",
       " '805775488',\n",
       " '791738060',\n",
       " '809016076',\n",
       " '716824542',\n",
       " '753504309',\n",
       " '630854441',\n",
       " '798021705',\n",
       " '797601751',\n",
       " '807269173',\n",
       " '806793897',\n",
       " '769767479',\n",
       " '803150929',\n",
       " '792967213',\n",
       " '802536421',\n",
       " '464013299',\n",
       " '465332677',\n",
       " '755635437',\n",
       " '810394021',\n",
       " '796901111',\n",
       " '804392726',\n",
       " '802968301',\n",
       " '788203951',\n",
       " '792421427',\n",
       " '785787867',\n",
       " '803129179',\n",
       " '788509983',\n",
       " '788076422',\n",
       " '808912193',\n",
       " '785194665',\n",
       " '762199710',\n",
       " '753504318',\n",
       " '807181310',\n",
       " '775381104',\n",
       " '796644653',\n",
       " '801425246',\n",
       " '802100985',\n",
       " '792466195',\n",
       " '682961267',\n",
       " '809666518',\n",
       " '710205202',\n",
       " '810345257',\n",
       " '767541195',\n",
       " '798552094',\n",
       " '798775524',\n",
       " '808007309',\n",
       " '808911498',\n",
       " '780529718',\n",
       " '750459607',\n",
       " '793781270',\n",
       " '801131616',\n",
       " '801458325',\n",
       " '792985041',\n",
       " '784538136',\n",
       " '788076421',\n",
       " '793959983',\n",
       " '746776420',\n",
       " '655789830',\n",
       " '754442276',\n",
       " '768590410',\n",
       " '748229079',\n",
       " '792989525',\n",
       " '763633071',\n",
       " '632327614',\n",
       " '787546231',\n",
       " '747316356',\n",
       " '773088771',\n",
       " '611646315',\n",
       " '807597989',\n",
       " '648281776',\n",
       " '809053045',\n",
       " '801572304',\n",
       " '747131576',\n",
       " '802984013',\n",
       " '711104901',\n",
       " '790103602',\n",
       " '785993801',\n",
       " '787546214',\n",
       " '543772117',\n",
       " '760849504',\n",
       " '734280752',\n",
       " '792993160',\n",
       " '715196407',\n",
       " '778370907',\n",
       " '624552316',\n",
       " '801346416',\n",
       " '801257282',\n",
       " '787138851',\n",
       " '802564396',\n",
       " '266805719',\n",
       " '777881413',\n",
       " '743474267',\n",
       " '794187779',\n",
       " '277139083',\n",
       " '786234242',\n",
       " '802830951',\n",
       " '465333188',\n",
       " '801094305',\n",
       " '807383201',\n",
       " '760099206',\n",
       " '773695987',\n",
       " '747581082',\n",
       " '787734375',\n",
       " '799332437',\n",
       " '619571852',\n",
       " '796598766',\n",
       " '798478882',\n",
       " '769885957',\n",
       " '767523045',\n",
       " '800819170',\n",
       " '791730583',\n",
       " '743887610',\n",
       " '749626488',\n",
       " '614620278',\n",
       " '756341810',\n",
       " '805803292',\n",
       " '804841405',\n",
       " '786706824',\n",
       " '804919120',\n",
       " '803594159',\n",
       " '807271651',\n",
       " '746208306',\n",
       " '734452101',\n",
       " '490026975',\n",
       " '791973075',\n",
       " '532028124',\n",
       " '773553414',\n",
       " '803258442',\n",
       " '739589114',\n",
       " '778573461',\n",
       " '793615219',\n",
       " '809053084',\n",
       " '810391593',\n",
       " '809338892',\n",
       " '796369258',\n",
       " '810180422',\n",
       " '538638286',\n",
       " '777401892',\n",
       " '802007204',\n",
       " '777438949',\n",
       " '806218858',\n",
       " '795493602',\n",
       " '793981501',\n",
       " '778508766',\n",
       " '790739674',\n",
       " '788196904',\n",
       " '464013284',\n",
       " '802258627',\n",
       " '774944378',\n",
       " '786871242',\n",
       " '770555445',\n",
       " '809874651',\n",
       " '762309166',\n",
       " '774707329',\n",
       " '759512676',\n",
       " '809754416',\n",
       " '708539330',\n",
       " '801683975',\n",
       " '472598957',\n",
       " '801156334',\n",
       " '538951364',\n",
       " '803129004',\n",
       " '787551237',\n",
       " '690147808',\n",
       " '333596968',\n",
       " '792908596',\n",
       " '500822598',\n",
       " '738774125',\n",
       " '210275662',\n",
       " '809308765',\n",
       " '800126103',\n",
       " '806027408',\n",
       " '739325061',\n",
       " '792251794',\n",
       " '808985384',\n",
       " '630967330',\n",
       " '632866870',\n",
       " '769318326',\n",
       " '777776901',\n",
       " '810584506',\n",
       " '759512675',\n",
       " '764955151',\n",
       " '677369514',\n",
       " '465351318',\n",
       " '761150843',\n",
       " '799004304',\n",
       " '766651037',\n",
       " '787851468',\n",
       " '810565465',\n",
       " '718592902',\n",
       " '743625718',\n",
       " '810344343',\n",
       " '807203438',\n",
       " '673518793',\n",
       " '801234814',\n",
       " '777296734',\n",
       " '436080034',\n",
       " '775189002',\n",
       " '631355958',\n",
       " '752860184',\n",
       " '751652057',\n",
       " '798694776',\n",
       " '791952596',\n",
       " '810010875',\n",
       " '746416672',\n",
       " '769616825',\n",
       " '713395273',\n",
       " '797812598',\n",
       " '801514829',\n",
       " '766922707',\n",
       " '801958728',\n",
       " '686436171',\n",
       " '791759597',\n",
       " '787616572',\n",
       " '772278620',\n",
       " '689668750',\n",
       " '768904640',\n",
       " '790448496',\n",
       " '797965670',\n",
       " '705019477',\n",
       " '725714578',\n",
       " '810319752',\n",
       " '777699354',\n",
       " '791757625',\n",
       " '492508679',\n",
       " '774325907',\n",
       " '685066829',\n",
       " '801508621',\n",
       " '792009278',\n",
       " '690907176',\n",
       " '803130718',\n",
       " '783924376',\n",
       " '801139964',\n",
       " '809320463',\n",
       " '513348186',\n",
       " '685990321',\n",
       " '746566341',\n",
       " '797967105',\n",
       " '786085083',\n",
       " '786626214',\n",
       " '791740210',\n",
       " '784348433',\n",
       " '787551133',\n",
       " '782801553',\n",
       " '810102917',\n",
       " '802833182',\n",
       " '800403312',\n",
       " '774496940',\n",
       " '782394007',\n",
       " '809339053',\n",
       " '809047910',\n",
       " '752149154',\n",
       " '802050677',\n",
       " '446007664',\n",
       " '739075305',\n",
       " '747813669',\n",
       " '740856392',\n",
       " '780837515',\n",
       " '802919431',\n",
       " '785136640',\n",
       " '803062517',\n",
       " '707626705',\n",
       " '809302823',\n",
       " '778440806',\n",
       " '808560681',\n",
       " '799048594',\n",
       " '783400328',\n",
       " '770840844',\n",
       " '650819518',\n",
       " '791716046',\n",
       " '809010904',\n",
       " '697549009',\n",
       " '777437205',\n",
       " '770516522',\n",
       " '797758475',\n",
       " '689668756',\n",
       " '785661973',\n",
       " '807877523',\n",
       " '746303194',\n",
       " '809231144',\n",
       " '786996730',\n",
       " '791716643',\n",
       " '755576681',\n",
       " '740931108',\n",
       " '808143333',\n",
       " '796699894',\n",
       " '806219273',\n",
       " '760099713',\n",
       " '753161910',\n",
       " '777017268',\n",
       " '783397813',\n",
       " '796743222',\n",
       " '789961844',\n",
       " '802108792',\n",
       " '531982907',\n",
       " '771351533',\n",
       " '808026144',\n",
       " '802959605',\n",
       " '758132418',\n",
       " '686412773',\n",
       " '807142087',\n",
       " '778440804',\n",
       " '729107128',\n",
       " '791716468',\n",
       " '738800036',\n",
       " '808986604',\n",
       " '787142976',\n",
       " '727909016',\n",
       " '681993284']"
      ]
     },
     "execution_count": 8,
     "metadata": {},
     "output_type": "execute_result"
    }
   ],
   "source": [
    "b"
   ]
  },
  {
   "cell_type": "code",
   "execution_count": 9,
   "metadata": {},
   "outputs": [],
   "source": [
    "small_testing_images = testing_images[0:250]\n",
    "small_training_images = training_images[0:500]"
   ]
  },
  {
   "cell_type": "code",
   "execution_count": 10,
   "metadata": {},
   "outputs": [],
   "source": [
    "# dimensions of our images.\n",
    "img_width, img_height = 100, 100\n",
    "img_channel = 3"
   ]
  },
  {
   "cell_type": "code",
   "execution_count": 11,
   "metadata": {},
   "outputs": [
    {
     "data": {
      "text/plain": [
       "(250, 100, 100, 3)"
      ]
     },
     "execution_count": 11,
     "metadata": {},
     "output_type": "execute_result"
    }
   ],
   "source": [
    "np.array(small_testing_images).shape"
   ]
  },
  {
   "cell_type": "code",
   "execution_count": 12,
   "metadata": {},
   "outputs": [],
   "source": [
    "tr_img_data = np.array([i[0] for i in training_images])\n",
    "tst_img_data = np.array([i[0] for i in testing_images])"
   ]
  },
  {
   "cell_type": "code",
   "execution_count": 13,
   "metadata": {},
   "outputs": [],
   "source": [
    "small_tr_img_data = np.array([i[0] for i in small_training_images])\n",
    "small_tst_img_data = np.array([i[0] for i in small_testing_images])"
   ]
  },
  {
   "cell_type": "code",
   "execution_count": 14,
   "metadata": {},
   "outputs": [
    {
     "data": {
      "text/plain": [
       "(1000, 100, 3)"
      ]
     },
     "execution_count": 14,
     "metadata": {},
     "output_type": "execute_result"
    }
   ],
   "source": [
    "tr_img_data.shape"
   ]
  },
  {
   "cell_type": "code",
   "execution_count": 15,
   "metadata": {},
   "outputs": [
    {
     "data": {
      "text/plain": [
       "(250, 100, 3)"
      ]
     },
     "execution_count": 15,
     "metadata": {},
     "output_type": "execute_result"
    }
   ],
   "source": [
    "small_tst_img_data.shape"
   ]
  },
  {
   "cell_type": "code",
   "execution_count": 16,
   "metadata": {},
   "outputs": [],
   "source": [
    "# normalize the images\n",
    "tst_img_data = np.array(testing_images).astype('float32') / 255.\n",
    "tr_img_data = np.array(training_images).astype('float32') / 255.\n",
    "\n",
    "small_tst_img_data = np.array(small_testing_images).astype('float32') / 255.\n",
    "small_tr_img_data = np.array(small_training_images).astype('float32') / 255."
   ]
  },
  {
   "cell_type": "code",
   "execution_count": 17,
   "metadata": {},
   "outputs": [
    {
     "data": {
      "text/plain": [
       "(500, 100, 100, 3)"
      ]
     },
     "execution_count": 17,
     "metadata": {},
     "output_type": "execute_result"
    }
   ],
   "source": [
    "tr_img_data.shape\n",
    "small_tr_img_data.shape"
   ]
  },
  {
   "cell_type": "code",
   "execution_count": 18,
   "metadata": {},
   "outputs": [
    {
     "data": {
      "text/plain": [
       "<matplotlib.image.AxesImage at 0x6366dea90>"
      ]
     },
     "execution_count": 18,
     "metadata": {},
     "output_type": "execute_result"
    },
    {
     "data": {
      "image/png": "[encoded data removed]",
      "text/plain": [
       "<Figure size 432x288 with 1 Axes>"
      ]
     },
     "metadata": {
      "needs_background": "light"
     },
     "output_type": "display_data"
    }
   ],
   "source": [
    "plt.imshow(small_tr_img_data[10].reshape(img_width, img_height,3))"
   ]
  },
  {
   "cell_type": "markdown",
   "metadata": {},
   "source": [
    "# CNN Architecture"
   ]
  },
  {
   "cell_type": "code",
   "execution_count": 19,
   "metadata": {},
   "outputs": [],
   "source": [
    "input_img = Input(shape=(img_width, img_height, img_channel))  # adapt this if using `channels_first` image data format\n",
    "n_hidden_1, n_hidden_2, n_hidden_3= 16, 8, 8\n",
    "convkernel = (3,3) # convolution kernal\n",
    "poolkernel = (2,2) #pooling kernal\n",
    "\n",
    "x = Conv2D(n_hidden_1, convkernel, activation='relu', padding='same')(input_img)\n",
    "x = MaxPooling2D(poolkernel, padding='same')(x)\n",
    "x = Conv2D(n_hidden_2, convkernel, activation='relu', padding='same')(x)\n",
    "x = MaxPooling2D(poolkernel, padding='same')(x)\n",
    "x = Conv2D(n_hidden_3, convkernel, activation='relu', padding='same')(x)\n",
    "encoded = MaxPooling2D(poolkernel, padding='same')(x)\n",
    "\n",
    "x = Conv2D(n_hidden_3, convkernel, activation='relu', padding='same')(encoded)\n",
    "x = UpSampling2D(poolkernel)(x)\n",
    "x = Conv2D(n_hidden_2, convkernel, activation='relu', padding='same')(x)\n",
    "x =  UpSampling2D(poolkernel)(x)\n",
    "x =  Conv2D(n_hidden_1, convkernel, activation='relu')(x)\n",
    "x = UpSampling2D(poolkernel)(x)\n",
    "decoded =  Conv2D(img_channel, convkernel, activation='sigmoid', padding='same')(x)\n",
    "\n",
    "autoencoder = Model(input_img, decoded)\n",
    "autoencoder.compile(optimizer='adam', loss='binary_crossentropy')"
   ]
  },
  {
   "cell_type": "code",
   "execution_count": 20,
   "metadata": {},
   "outputs": [
    {
     "name": "stdout",
     "output_type": "stream",
     "text": [
      "Model: \"model_1\"\n",
      "_________________________________________________________________\n",
      "Layer (type)                 Output Shape              Param #   \n",
      "=================================================================\n",
      "input_1 (InputLayer)         (None, 100, 100, 3)       0         \n",
      "_________________________________________________________________\n",
      "conv2d_1 (Conv2D)            (None, 100, 100, 16)      448       \n",
      "_________________________________________________________________\n",
      "max_pooling2d_1 (MaxPooling2 (None, 50, 50, 16)        0         \n",
      "_________________________________________________________________\n",
      "conv2d_2 (Conv2D)            (None, 50, 50, 8)         1160      \n",
      "_________________________________________________________________\n",
      "max_pooling2d_2 (MaxPooling2 (None, 25, 25, 8)         0         \n",
      "_________________________________________________________________\n",
      "conv2d_3 (Conv2D)            (None, 25, 25, 8)         584       \n",
      "_________________________________________________________________\n",
      "max_pooling2d_3 (MaxPooling2 (None, 13, 13, 8)         0         \n",
      "_________________________________________________________________\n",
      "conv2d_4 (Conv2D)            (None, 13, 13, 8)         584       \n",
      "_________________________________________________________________\n",
      "up_sampling2d_1 (UpSampling2 (None, 26, 26, 8)         0         \n",
      "_________________________________________________________________\n",
      "conv2d_5 (Conv2D)            (None, 26, 26, 8)         584       \n",
      "_________________________________________________________________\n",
      "up_sampling2d_2 (UpSampling2 (None, 52, 52, 8)         0         \n",
      "_________________________________________________________________\n",
      "conv2d_6 (Conv2D)            (None, 50, 50, 16)        1168      \n",
      "_________________________________________________________________\n",
      "up_sampling2d_3 (UpSampling2 (None, 100, 100, 16)      0         \n",
      "_________________________________________________________________\n",
      "conv2d_7 (Conv2D)            (None, 100, 100, 3)       435       \n",
      "=================================================================\n",
      "Total params: 4,963\n",
      "Trainable params: 4,963\n",
      "Non-trainable params: 0\n",
      "_________________________________________________________________\n"
     ]
    }
   ],
   "source": [
    "autoencoder.summary()"
   ]
  },
  {
   "cell_type": "code",
   "execution_count": 21,
   "metadata": {},
   "outputs": [
    {
     "data": {
      "text/plain": [
       "(1000, 100, 100, 3)"
      ]
     },
     "execution_count": 21,
     "metadata": {},
     "output_type": "execute_result"
    }
   ],
   "source": [
    "tr_img_data.shape"
   ]
  },
  {
   "cell_type": "code",
   "execution_count": 22,
   "metadata": {},
   "outputs": [
    {
     "data": {
      "text/plain": [
       "(500, 100, 100, 3)"
      ]
     },
     "execution_count": 22,
     "metadata": {},
     "output_type": "execute_result"
    }
   ],
   "source": [
    "tst_img_data.shape"
   ]
  },
  {
   "cell_type": "code",
   "execution_count": 23,
   "metadata": {},
   "outputs": [
    {
     "name": "stdout",
     "output_type": "stream",
     "text": [
      "Train on 500 samples, validate on 250 samples\n",
      "Epoch 1/50\n",
      "500/500 [==============================] - 5s 10ms/step - loss: 0.6528 - val_loss: 0.4953\n",
      "Epoch 2/50\n",
      "500/500 [==============================] - 5s 10ms/step - loss: 0.3292 - val_loss: 0.2812\n",
      "Epoch 3/50\n",
      "500/500 [==============================] - 5s 10ms/step - loss: 0.2676 - val_loss: 0.2708\n",
      "Epoch 4/50\n",
      "500/500 [==============================] - 5s 9ms/step - loss: 0.2539 - val_loss: 0.2553\n",
      "Epoch 5/50\n",
      "500/500 [==============================] - 5s 9ms/step - loss: 0.2405 - val_loss: 0.2385\n",
      "Epoch 6/50\n",
      "500/500 [==============================] - 5s 9ms/step - loss: 0.2236 - val_loss: 0.2218\n",
      "Epoch 7/50\n",
      "500/500 [==============================] - 5s 10ms/step - loss: 0.2100 - val_loss: 0.2111\n",
      "Epoch 8/50\n",
      "500/500 [==============================] - 5s 10ms/step - loss: 0.2008 - val_loss: 0.2043\n",
      "Epoch 9/50\n",
      "500/500 [==============================] - 5s 10ms/step - loss: 0.1958 - val_loss: 0.2006\n",
      "Epoch 10/50\n",
      "500/500 [==============================] - 5s 9ms/step - loss: 0.1948 - val_loss: 0.1991\n",
      "Epoch 11/50\n",
      "500/500 [==============================] - 5s 10ms/step - loss: 0.1921 - val_loss: 0.1988\n",
      "Epoch 12/50\n",
      "500/500 [==============================] - 5s 10ms/step - loss: 0.1886 - val_loss: 0.1948\n",
      "Epoch 13/50\n",
      "500/500 [==============================] - 5s 10ms/step - loss: 0.1886 - val_loss: 0.1950\n",
      "Epoch 14/50\n",
      "500/500 [==============================] - 5s 9ms/step - loss: 0.1880 - val_loss: 0.1924\n",
      "Epoch 15/50\n",
      "500/500 [==============================] - 5s 9ms/step - loss: 0.1863 - val_loss: 0.1913\n",
      "Epoch 16/50\n",
      "500/500 [==============================] - 5s 9ms/step - loss: 0.1845 - val_loss: 0.1901\n",
      "Epoch 17/50\n",
      "500/500 [==============================] - 5s 9ms/step - loss: 0.1823 - val_loss: 0.1888\n",
      "Epoch 18/50\n",
      "500/500 [==============================] - 5s 9ms/step - loss: 0.1810 - val_loss: 0.1871\n",
      "Epoch 19/50\n",
      "500/500 [==============================] - 5s 9ms/step - loss: 0.1808 - val_loss: 0.1867\n",
      "Epoch 20/50\n",
      "500/500 [==============================] - 5s 9ms/step - loss: 0.1791 - val_loss: 0.1843\n",
      "Epoch 21/50\n",
      "500/500 [==============================] - 5s 9ms/step - loss: 0.1760 - val_loss: 0.1826\n",
      "Epoch 22/50\n",
      "500/500 [==============================] - 5s 9ms/step - loss: 0.1748 - val_loss: 0.1817\n",
      "Epoch 23/50\n",
      "500/500 [==============================] - 4s 9ms/step - loss: 0.1748 - val_loss: 0.1825\n",
      "Epoch 24/50\n",
      "500/500 [==============================] - 4s 9ms/step - loss: 0.1734 - val_loss: 0.1801\n",
      "Epoch 25/50\n",
      "500/500 [==============================] - 5s 9ms/step - loss: 0.1730 - val_loss: 0.1824\n",
      "Epoch 26/50\n",
      "500/500 [==============================] - 5s 9ms/step - loss: 0.1726 - val_loss: 0.1785\n",
      "Epoch 27/50\n",
      "500/500 [==============================] - 5s 9ms/step - loss: 0.1716 - val_loss: 0.1813\n",
      "Epoch 28/50\n",
      "500/500 [==============================] - 5s 9ms/step - loss: 0.1721 - val_loss: 0.1788\n",
      "Epoch 29/50\n",
      "500/500 [==============================] - 5s 9ms/step - loss: 0.1722 - val_loss: 0.1819\n",
      "Epoch 30/50\n",
      "500/500 [==============================] - 5s 9ms/step - loss: 0.1751 - val_loss: 0.1778\n",
      "Epoch 31/50\n",
      "500/500 [==============================] - 5s 9ms/step - loss: 0.1743 - val_loss: 0.1788\n",
      "Epoch 32/50\n",
      "500/500 [==============================] - 4s 9ms/step - loss: 0.1703 - val_loss: 0.1771\n",
      "Epoch 33/50\n",
      "500/500 [==============================] - 4s 9ms/step - loss: 0.1695 - val_loss: 0.1762\n",
      "Epoch 34/50\n",
      "500/500 [==============================] - 4s 9ms/step - loss: 0.1691 - val_loss: 0.1770\n",
      "Epoch 35/50\n",
      "500/500 [==============================] - 5s 9ms/step - loss: 0.1693 - val_loss: 0.1756\n",
      "Epoch 36/50\n",
      "500/500 [==============================] - 5s 9ms/step - loss: 0.1687 - val_loss: 0.1746\n",
      "Epoch 37/50\n",
      "500/500 [==============================] - 5s 9ms/step - loss: 0.1680 - val_loss: 0.1767\n",
      "Epoch 38/50\n",
      "500/500 [==============================] - 5s 11ms/step - loss: 0.1695 - val_loss: 0.1741\n",
      "Epoch 39/50\n",
      "500/500 [==============================] - 5s 10ms/step - loss: 0.1687 - val_loss: 0.1756\n",
      "Epoch 40/50\n",
      "500/500 [==============================] - 5s 9ms/step - loss: 0.1703 - val_loss: 0.1784\n",
      "Epoch 41/50\n",
      "500/500 [==============================] - 5s 10ms/step - loss: 0.1704 - val_loss: 0.1742\n",
      "Epoch 42/50\n",
      "500/500 [==============================] - 5s 9ms/step - loss: 0.1694 - val_loss: 0.1738\n",
      "Epoch 43/50\n",
      "500/500 [==============================] - 5s 9ms/step - loss: 0.1668 - val_loss: 0.1734\n",
      "Epoch 44/50\n",
      "500/500 [==============================] - 5s 9ms/step - loss: 0.1660 - val_loss: 0.1750\n",
      "Epoch 45/50\n",
      "500/500 [==============================] - 4s 9ms/step - loss: 0.1687 - val_loss: 0.1811\n",
      "Epoch 46/50\n",
      "500/500 [==============================] - 5s 9ms/step - loss: 0.1681 - val_loss: 0.1740\n",
      "Epoch 47/50\n",
      "500/500 [==============================] - 5s 9ms/step - loss: 0.1661 - val_loss: 0.1725\n",
      "Epoch 48/50\n",
      "500/500 [==============================] - 5s 9ms/step - loss: 0.1676 - val_loss: 0.1725\n",
      "Epoch 49/50\n",
      "500/500 [==============================] - 5s 9ms/step - loss: 0.1653 - val_loss: 0.1724\n",
      "Epoch 50/50\n",
      "500/500 [==============================] - 4s 9ms/step - loss: 0.1652 - val_loss: 0.1712\n"
     ]
    }
   ],
   "source": [
    "autoencoder_train = autoencoder.fit(\n",
    "    small_tr_img_data, small_tr_img_data,\n",
    "    validation_data = (small_tst_img_data,small_tst_img_data),\n",
    "    batch_size=32,\n",
    "    epochs=50,\n",
    "    verbose=1,\n",
    ")"
   ]
  },
  {
   "cell_type": "code",
   "execution_count": 24,
   "metadata": {},
   "outputs": [],
   "source": [
    "# this model maps an input to its encoded representation\n",
    "encoder = Model(input_img, encoded)"
   ]
  },
  {
   "cell_type": "code",
   "execution_count": 25,
   "metadata": {},
   "outputs": [
    {
     "data": {
      "text/plain": [
       "<keras.engine.training.Model at 0x1c39e66e10>"
      ]
     },
     "execution_count": 25,
     "metadata": {},
     "output_type": "execute_result"
    }
   ],
   "source": [
    "encoder"
   ]
  },
  {
   "cell_type": "code",
   "execution_count": 26,
   "metadata": {},
   "outputs": [],
   "source": [
    "# encode some digits\n",
    "# note that we take them from the *test* set\n",
    "encoded_train_imgs = encoder.predict(small_tr_img_data)\n",
    "encoded_test_imgs = encoder.predict(small_tst_img_data)"
   ]
  },
  {
   "cell_type": "code",
   "execution_count": 27,
   "metadata": {},
   "outputs": [
    {
     "data": {
      "text/plain": [
       "(500, 13, 13, 8)"
      ]
     },
     "execution_count": 27,
     "metadata": {},
     "output_type": "execute_result"
    }
   ],
   "source": [
    "encoded_train_imgs.shape"
   ]
  },
  {
   "cell_type": "code",
   "execution_count": 28,
   "metadata": {},
   "outputs": [
    {
     "data": {
      "text/plain": [
       "(250, 13, 13, 8)"
      ]
     },
     "execution_count": 28,
     "metadata": {},
     "output_type": "execute_result"
    }
   ],
   "source": [
    "encoded_test_imgs.shape"
   ]
  },
  {
   "cell_type": "code",
   "execution_count": 29,
   "metadata": {},
   "outputs": [],
   "source": [
    "# flatten the img, so they are the shape (#imgs, height*width*channels of output of encoder)\n",
    "encoded_train_imgs_flat = encoded_train_imgs.reshape((-1, np.prod(encoded_train_imgs.shape[1:])))\n",
    "encoded_test_imgs_flat = encoded_test_imgs.reshape((-1, np.prod(encoded_test_imgs.shape[1:])))"
   ]
  },
  {
   "cell_type": "code",
   "execution_count": 30,
   "metadata": {},
   "outputs": [
    {
     "data": {
      "text/plain": [
       "(250, 1352)"
      ]
     },
     "execution_count": 30,
     "metadata": {},
     "output_type": "execute_result"
    }
   ],
   "source": [
    "encoded_test_imgs_flat.shape"
   ]
  },
  {
   "cell_type": "code",
   "execution_count": 31,
   "metadata": {},
   "outputs": [
    {
     "data": {
      "text/plain": [
       "array([0.        , 0.49314174, 0.07334169, ..., 0.628855  , 0.        ,\n",
       "       0.        ], dtype=float32)"
      ]
     },
     "execution_count": 31,
     "metadata": {},
     "output_type": "execute_result"
    }
   ],
   "source": [
    "encoded_test_imgs_flat[0]"
   ]
  },
  {
   "cell_type": "code",
   "execution_count": 32,
   "metadata": {},
   "outputs": [
    {
     "data": {
      "image/png": "[encoded data removed]",
      "text/plain": [
       "<Figure size 432x288 with 1 Axes>"
      ]
     },
     "metadata": {
      "needs_background": "light"
     },
     "output_type": "display_data"
    }
   ],
   "source": [
    "# Training vs Validation Loss Plot\n",
    "loss = autoencoder.history.history['loss']\n",
    "val_loss = autoencoder.history.history['val_loss']\n",
    "epochs = range(50)\n",
    "plt.figure()\n",
    "plt.plot(epochs, loss, 'bo', label='Training loss')\n",
    "plt.plot(epochs, val_loss, 'b', label='Validation loss')\n",
    "plt.title('Training and validation loss')\n",
    "plt.legend()\n",
    "plt.show()"
   ]
  },
  {
   "cell_type": "markdown",
   "metadata": {},
   "source": [
    "Validation loss and the training loss both are in sync. It shows that your model is not overfitting: the validation loss is decreasing and not increasing, and there rarely any gap between training and validation loss."
   ]
  },
  {
   "cell_type": "markdown",
   "metadata": {},
   "source": [
    "# Trying KNN"
   ]
  },
  {
   "cell_type": "code",
   "execution_count": 33,
   "metadata": {},
   "outputs": [
    {
     "data": {
      "text/plain": [
       "NearestNeighbors(algorithm='auto', leaf_size=30, metric='cosine',\n",
       "                 metric_params=None, n_jobs=None, n_neighbors=5, p=2,\n",
       "                 radius=1.0)"
      ]
     },
     "execution_count": 33,
     "metadata": {},
     "output_type": "execute_result"
    }
   ],
   "source": [
    "# Making Training set with the encoded layer\n",
    "knn = NearestNeighbors(n_neighbors=5, metric=\"cosine\")\n",
    "knn.fit(encoded_train_imgs_flat)"
   ]
  },
  {
   "cell_type": "code",
   "execution_count": 34,
   "metadata": {},
   "outputs": [
    {
     "data": {
      "text/plain": [
       "(500, 1352)"
      ]
     },
     "execution_count": 34,
     "metadata": {},
     "output_type": "execute_result"
    }
   ],
   "source": [
    "encoded_train_imgs_flat.shape"
   ]
  },
  {
   "cell_type": "code",
   "execution_count": 35,
   "metadata": {},
   "outputs": [],
   "source": [
    "# Save the trained model as a pickle string. \n",
    "pickle_name = 'jewelry_knn_test.sav'\n",
    "pickle.dump(knn, open(pickle_name, 'wb')) "
   ]
  },
  {
   "cell_type": "code",
   "execution_count": 55,
   "metadata": {},
   "outputs": [],
   "source": [
    "test_img = 3"
   ]
  },
  {
   "cell_type": "code",
   "execution_count": 56,
   "metadata": {},
   "outputs": [],
   "source": [
    "# Predict KNN for a test image\n",
    "distances, indices = knn.kneighbors(encoded_test_imgs_flat[test_img].reshape(1, -1))"
   ]
  },
  {
   "cell_type": "code",
   "execution_count": 57,
   "metadata": {},
   "outputs": [
    {
     "data": {
      "text/plain": [
       "<matplotlib.image.AxesImage at 0x1c3a7be550>"
      ]
     },
     "execution_count": 57,
     "metadata": {},
     "output_type": "execute_result"
    },
    {
     "data": {
      "image/png": "[encoded data removed]",
      "text/plain": [
       "<Figure size 432x288 with 1 Axes>"
      ]
     },
     "metadata": {
      "needs_background": "light"
     },
     "output_type": "display_data"
    }
   ],
   "source": [
    "# Print the test image\n",
    "plt.imshow(small_testing_images[test_img].reshape(100, 100, 3))"
   ]
  },
  {
   "cell_type": "code",
   "execution_count": 58,
   "metadata": {},
   "outputs": [
    {
     "data": {
      "text/plain": [
       "array([[306, 371, 409, 352,  19]])"
      ]
     },
     "execution_count": 58,
     "metadata": {},
     "output_type": "execute_result"
    }
   ],
   "source": [
    "# indices for the neighbors in the training data set\n",
    "indices"
   ]
  },
  {
   "cell_type": "code",
   "execution_count": 59,
   "metadata": {},
   "outputs": [
    {
     "data": {
      "image/png": "[encoded data removed]",
      "text/plain": [
       "<Figure size 576x576 with 5 Axes>"
      ]
     },
     "metadata": {
      "needs_background": "light"
     },
     "output_type": "display_data"
    }
   ],
   "source": [
    "# n_neighbors of the test image\n",
    "fig= plt.figure(figsize=(8, 8))\n",
    "columns = 3\n",
    "rows = 2\n",
    "for i, idx in zip(range(1, columns*rows +1), np.nditer(indices)):\n",
    "    fig.add_subplot(rows, columns, i)\n",
    "    plt.imshow(small_training_images[idx].reshape(100, 100, 3))\n",
    "plt.show()"
   ]
  },
  {
   "cell_type": "markdown",
   "metadata": {},
   "source": [
    "# WOOOT"
   ]
  },
  {
   "cell_type": "markdown",
   "metadata": {},
   "source": [
    "# Tesing Pickle"
   ]
  },
  {
   "cell_type": "code",
   "execution_count": 41,
   "metadata": {},
   "outputs": [
    {
     "data": {
      "text/plain": [
       "NearestNeighbors(algorithm='auto', leaf_size=30, metric='cosine',\n",
       "                 metric_params=None, n_jobs=None, n_neighbors=5, p=2,\n",
       "                 radius=1.0)"
      ]
     },
     "execution_count": 41,
     "metadata": {},
     "output_type": "execute_result"
    }
   ],
   "source": [
    "import pickle\n",
    "filename = 'jewelry_knn_test.sav'\n",
    "knn = pickle.load(open(filename, 'rb'))\n",
    "knn"
   ]
  },
  {
   "cell_type": "markdown",
   "metadata": {},
   "source": [
    "# Trying KNN and price filtering"
   ]
  },
  {
   "cell_type": "code",
   "execution_count": 42,
   "metadata": {},
   "outputs": [
    {
     "data": {
      "text/html": [
       "<div>\n",
       "<style scoped>\n",
       "    .dataframe tbody tr th:only-of-type {\n",
       "        vertical-align: middle;\n",
       "    }\n",
       "\n",
       "    .dataframe tbody tr th {\n",
       "        vertical-align: top;\n",
       "    }\n",
       "\n",
       "    .dataframe thead th {\n",
       "        text-align: right;\n",
       "    }\n",
       "</style>\n",
       "<table border=\"1\" class=\"dataframe\">\n",
       "  <thead>\n",
       "    <tr style=\"text-align: right;\">\n",
       "      <th></th>\n",
       "      <th>id</th>\n",
       "      <th>name</th>\n",
       "      <th>price</th>\n",
       "      <th>clickUrl</th>\n",
       "      <th>category_numID</th>\n",
       "    </tr>\n",
       "  </thead>\n",
       "  <tbody>\n",
       "    <tr>\n",
       "      <th>0</th>\n",
       "      <td>7242404</td>\n",
       "      <td>Gurhan Women&amp;s;s Amulet 24K Yellow Gold Dome D...</td>\n",
       "      <td>1850.0</td>\n",
       "      <td>https://www.shopstyle.com/action/loadRetailerP...</td>\n",
       "      <td>72</td>\n",
       "    </tr>\n",
       "    <tr>\n",
       "      <th>1</th>\n",
       "      <td>7636349</td>\n",
       "      <td>Royalty Inspired by Effy Sapphire (1-9/10 ct. ...</td>\n",
       "      <td>2300.0</td>\n",
       "      <td>https://www.shopstyle.com/action/loadRetailerP...</td>\n",
       "      <td>73</td>\n",
       "    </tr>\n",
       "    <tr>\n",
       "      <th>2</th>\n",
       "      <td>26292586</td>\n",
       "      <td>Le Vian Chocolate Diamond (3/4 ct. t.w.) and W...</td>\n",
       "      <td>1900.0</td>\n",
       "      <td>https://www.shopstyle.com/action/loadRetailerP...</td>\n",
       "      <td>420</td>\n",
       "    </tr>\n",
       "    <tr>\n",
       "      <th>3</th>\n",
       "      <td>26334781</td>\n",
       "      <td>Royalty Inspired by Effy Emerald (5/8 ct. t.w....</td>\n",
       "      <td>800.0</td>\n",
       "      <td>https://www.shopstyle.com/action/loadRetailerP...</td>\n",
       "      <td>68</td>\n",
       "    </tr>\n",
       "    <tr>\n",
       "      <th>4</th>\n",
       "      <td>31658464</td>\n",
       "      <td>Majorica Women&amp;s;s 11mm Round Simulated Pearl ...</td>\n",
       "      <td>80.0</td>\n",
       "      <td>https://www.shopstyle.com/action/loadRetailerP...</td>\n",
       "      <td>72</td>\n",
       "    </tr>\n",
       "  </tbody>\n",
       "</table>\n",
       "</div>"
      ],
      "text/plain": [
       "         id                                               name   price  \\\n",
       "0   7242404  Gurhan Women&s;s Amulet 24K Yellow Gold Dome D...  1850.0   \n",
       "1   7636349  Royalty Inspired by Effy Sapphire (1-9/10 ct. ...  2300.0   \n",
       "2  26292586  Le Vian Chocolate Diamond (3/4 ct. t.w.) and W...  1900.0   \n",
       "3  26334781  Royalty Inspired by Effy Emerald (5/8 ct. t.w....   800.0   \n",
       "4  31658464  Majorica Women&s;s 11mm Round Simulated Pearl ...    80.0   \n",
       "\n",
       "                                            clickUrl  category_numID  \n",
       "0  https://www.shopstyle.com/action/loadRetailerP...              72  \n",
       "1  https://www.shopstyle.com/action/loadRetailerP...              73  \n",
       "2  https://www.shopstyle.com/action/loadRetailerP...             420  \n",
       "3  https://www.shopstyle.com/action/loadRetailerP...              68  \n",
       "4  https://www.shopstyle.com/action/loadRetailerP...              72  "
      ]
     },
     "execution_count": 42,
     "metadata": {},
     "output_type": "execute_result"
    }
   ],
   "source": [
    "product_meta = pd.read_csv('data/product_metadata.csv')\n",
    "product_meta.head()"
   ]
  },
  {
   "cell_type": "code",
   "execution_count": 43,
   "metadata": {},
   "outputs": [
    {
     "data": {
      "text/plain": [
       "NearestNeighbors(algorithm='auto', leaf_size=30, metric='cosine',\n",
       "                 metric_params=None, n_jobs=None, n_neighbors=10, p=2,\n",
       "                 radius=1.0)"
      ]
     },
     "execution_count": 43,
     "metadata": {},
     "output_type": "execute_result"
    }
   ],
   "source": [
    "# Making Training set with the encoded layer\n",
    "knn_price = NearestNeighbors(n_neighbors=10, metric=\"cosine\")\n",
    "knn_price.fit(encoded_train_imgs_flat)"
   ]
  },
  {
   "cell_type": "code",
   "execution_count": 60,
   "metadata": {},
   "outputs": [],
   "source": [
    "test_img = 216\n",
    "\n",
    "# Predict KNN for a test image\n",
    "distances, indices = knn_price.kneighbors(encoded_test_imgs_flat[test_img].reshape(1, -1))"
   ]
  },
  {
   "cell_type": "code",
   "execution_count": 61,
   "metadata": {},
   "outputs": [
    {
     "data": {
      "image/png": "[encoded data removed]",
      "text/plain": [
       "<Figure size 576x576 with 6 Axes>"
      ]
     },
     "metadata": {
      "needs_background": "light"
     },
     "output_type": "display_data"
    }
   ],
   "source": [
    "# n_neighbors of the test image\n",
    "fig= plt.figure(figsize=(8, 8))\n",
    "columns = 3\n",
    "rows = 2\n",
    "for i, idx in zip(range(1, columns*rows +1), np.nditer(indices)):\n",
    "    fig.add_subplot(rows, columns, i)\n",
    "    plt.imshow(small_training_images[idx].reshape(100, 100, 3))\n",
    "plt.show()"
   ]
  },
  {
   "cell_type": "code",
   "execution_count": 62,
   "metadata": {},
   "outputs": [
    {
     "data": {
      "text/plain": [
       "'736758642'"
      ]
     },
     "execution_count": 62,
     "metadata": {},
     "output_type": "execute_result"
    }
   ],
   "source": [
    "import re\n",
    "re.split('[/.]', training_ids[0])[3]"
   ]
  },
  {
   "cell_type": "code",
   "execution_count": 63,
   "metadata": {},
   "outputs": [],
   "source": [
    "def extract_id(id_list):\n",
    "    cleaned_ids = []\n",
    "    for i in id_list:\n",
    "        cleaned_ids.append(re.split('[/.]', i)[3])\n",
    "    return cleaned_ids"
   ]
  },
  {
   "cell_type": "code",
   "execution_count": 48,
   "metadata": {},
   "outputs": [],
   "source": [
    "training_product_ids = extract_id(training_ids)"
   ]
  },
  {
   "cell_type": "code",
   "execution_count": 49,
   "metadata": {},
   "outputs": [
    {
     "data": {
      "text/plain": [
       "'730901263'"
      ]
     },
     "execution_count": 49,
     "metadata": {},
     "output_type": "execute_result"
    }
   ],
   "source": [
    "training_product_ids[115]"
   ]
  },
  {
   "cell_type": "code",
   "execution_count": 50,
   "metadata": {},
   "outputs": [
    {
     "data": {
      "text/html": [
       "<div>\n",
       "<style scoped>\n",
       "    .dataframe tbody tr th:only-of-type {\n",
       "        vertical-align: middle;\n",
       "    }\n",
       "\n",
       "    .dataframe tbody tr th {\n",
       "        vertical-align: top;\n",
       "    }\n",
       "\n",
       "    .dataframe thead th {\n",
       "        text-align: right;\n",
       "    }\n",
       "</style>\n",
       "<table border=\"1\" class=\"dataframe\">\n",
       "  <thead>\n",
       "    <tr style=\"text-align: right;\">\n",
       "      <th></th>\n",
       "      <th>id</th>\n",
       "      <th>name</th>\n",
       "      <th>price</th>\n",
       "      <th>clickUrl</th>\n",
       "      <th>category_numID</th>\n",
       "    </tr>\n",
       "  </thead>\n",
       "  <tbody>\n",
       "    <tr>\n",
       "      <th>5174</th>\n",
       "      <td>730901263</td>\n",
       "      <td>Splash by Effy Purple Sapphire Horizontal Bar ...</td>\n",
       "      <td>650.0</td>\n",
       "      <td>https://www.shopstyle.com/action/loadRetailerP...</td>\n",
       "      <td>73</td>\n",
       "    </tr>\n",
       "  </tbody>\n",
       "</table>\n",
       "</div>"
      ],
      "text/plain": [
       "             id                                               name  price  \\\n",
       "5174  730901263  Splash by Effy Purple Sapphire Horizontal Bar ...  650.0   \n",
       "\n",
       "                                               clickUrl  category_numID  \n",
       "5174  https://www.shopstyle.com/action/loadRetailerP...              73  "
      ]
     },
     "execution_count": 50,
     "metadata": {},
     "output_type": "execute_result"
    }
   ],
   "source": [
    "product_meta[product_meta['id'] == int(training_product_ids[115])]"
   ]
  },
  {
   "cell_type": "code",
   "execution_count": 51,
   "metadata": {},
   "outputs": [
    {
     "data": {
      "text/plain": [
       "array([443, 164, 107, 421, 492, 252, 329,  20, 118,  18])"
      ]
     },
     "execution_count": 51,
     "metadata": {},
     "output_type": "execute_result"
    }
   ],
   "source": [
    "indices[0]"
   ]
  },
  {
   "cell_type": "code",
   "execution_count": 68,
   "metadata": {
    "scrolled": true
   },
   "outputs": [
    {
     "data": {
      "text/plain": [
       "[335, 387, 4, 217, 423, 143, 379, 124, 367]"
      ]
     },
     "execution_count": 68,
     "metadata": {},
     "output_type": "execute_result"
    }
   ],
   "source": [
    "price_limit = 100\n",
    "\n",
    "indices_filtered = []\n",
    "for i in indices[0]:\n",
    "    img_id = training_product_ids[i]\n",
    "    price = float(product_meta[product_meta['id'] == int(img_id)]['price'])   \n",
    "    if price < price_limit:\n",
    "        indices_filtered.append(i)\n",
    "indices_filtered"
   ]
  },
  {
   "cell_type": "code",
   "execution_count": 90,
   "metadata": {},
   "outputs": [],
   "source": [
    "def price_filter(neighbors, product_ids, product_data, price_limit):\n",
    "    filtered_products = []\n",
    "    product_prices = []\n",
    "    product_urls = []\n",
    "    for neighbor in neighbors:\n",
    "        product_id = product_ids[neighbor]\n",
    "        price = float(product_data[product_data['id'] == int(product_id)]['price'])\n",
    "        url = str(product_data[product_data['id'] == int(product_id)]['clickUrl'])\n",
    "        if price < price_limit:\n",
    "            filtered_products.append(neighbor)\n",
    "            product_prices.append(price)\n",
    "            product_urls.append(url)\n",
    "    return filtered_products, product_prices, product_urls         "
   ]
  },
  {
   "cell_type": "code",
   "execution_count": 198,
   "metadata": {},
   "outputs": [
    {
     "data": {
      "text/plain": [
       "list"
      ]
     },
     "execution_count": 198,
     "metadata": {},
     "output_type": "execute_result"
    }
   ],
   "source": [
    "type(training_product_ids)"
   ]
  },
  {
   "cell_type": "code",
   "execution_count": 91,
   "metadata": {},
   "outputs": [],
   "source": [
    "filtered_products, product_prices, product_urls = price_filter(indices[0], \n",
    "                                                   training_product_ids, \n",
    "                                                   product_meta, \n",
    "                                                   price_limit)"
   ]
  },
  {
   "cell_type": "code",
   "execution_count": 94,
   "metadata": {},
   "outputs": [
    {
     "data": {
      "text/plain": [
       "[335, 387, 4, 217, 423, 143, 379, 124, 367]"
      ]
     },
     "execution_count": 94,
     "metadata": {},
     "output_type": "execute_result"
    }
   ],
   "source": [
    "filtered_products"
   ]
  },
  {
   "cell_type": "markdown",
   "metadata": {},
   "source": [
    "Matches the image file!!!!"
   ]
  },
  {
   "cell_type": "code",
   "execution_count": 93,
   "metadata": {},
   "outputs": [
    {
     "data": {
      "image/png": "[encoded data removed]",
      "text/plain": [
       "<Figure size 1440x1440 with 6 Axes>"
      ]
     },
     "metadata": {
      "needs_background": "light"
     },
     "output_type": "display_data"
    }
   ],
   "source": [
    "# n_neighbors of the test image\n",
    "fig= plt.figure(figsize=(20, 20))\n",
    "columns = 3\n",
    "rows = 2\n",
    "for i, idx in zip(range(1, columns*rows +1), filtered_products):\n",
    "    fig.add_subplot(rows, columns, i)\n",
    "    plt.imshow(training_images[idx].reshape(100, 100, 3))\n",
    "    plt.title(f'Price: {product_prices[i]}; url: {product_urls[i]}')\n",
    "plt.show()"
   ]
  },
  {
   "cell_type": "code",
   "execution_count": null,
   "metadata": {},
   "outputs": [],
   "source": []
  }
 ],
 "metadata": {
  "kernelspec": {
   "display_name": "Python 3",
   "language": "python",
   "name": "python3"
  },
  "language_info": {
   "codemirror_mode": {
    "name": "ipython",
    "version": 3
   },
   "file_extension": ".py",
   "mimetype": "text/x-python",
   "name": "python",
   "nbconvert_exporter": "python",
   "pygments_lexer": "ipython3",
   "version": "3.7.3"
  }
 },
 "nbformat": 4,
 "nbformat_minor": 2
}
