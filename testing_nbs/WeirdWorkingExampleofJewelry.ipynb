{
 "cells": [
  {
   "cell_type": "code",
   "execution_count": 1,
   "metadata": {},
   "outputs": [
    {
     "name": "stderr",
     "output_type": "stream",
     "text": [
      "Using TensorFlow backend.\n"
     ]
    }
   ],
   "source": [
    "import cv2\n",
    "import numpy as np\n",
    "import os\n",
    "import tensorflow as tf\n",
    "from tqdm import tqdm\n",
    "%matplotlib inline\n",
    "import matplotlib.pyplot as plt\n",
    "from keras.preprocessing.image import ImageDataGenerator\n",
    "from keras.layers import Input, Dense, Conv2D, MaxPooling2D, UpSampling2D, Flatten\n",
    "from keras.models import Model\n",
    "import numpy as np\n",
    "import pandas as pd\n",
    "import os\n",
    "import sys\n",
    "from keras.optimizers import Adam\n",
    "import skimage.io\n",
    "from multiprocessing import Pool\n",
    "import tensorflow as tf\n",
    "from sklearn.neighbors import NearestNeighbors\n",
    "import pickle"
   ]
  },
  {
   "cell_type": "markdown",
   "metadata": {},
   "source": [
    "# Prep and input of data"
   ]
  },
  {
   "cell_type": "code",
   "execution_count": 2,
   "metadata": {},
   "outputs": [],
   "source": [
    "train_data = 'data/training/earrings'\n",
    "test_data = 'data/testing/earrings'"
   ]
  },
  {
   "cell_type": "code",
   "execution_count": 3,
   "metadata": {},
   "outputs": [],
   "source": [
    "def train_data_with_label():\n",
    "    train_images = []\n",
    "    for i in tqdm(os.listdir(train_data)):\n",
    "        path = os.path.join(train_data, i)\n",
    "        img = cv2.imread(path, cv2.IMREAD_COLOR)\n",
    "        img = cv2.resize(img, (28,28))\n",
    "        train_images.append(np.array(img))\n",
    "#         shuffle(train_images)\n",
    "    return train_images\n",
    "\n",
    "def test_data_with_label():\n",
    "    test_images = []\n",
    "    for i in tqdm(os.listdir(test_data)):\n",
    "        path = os.path.join(test_data, i)\n",
    "        img = cv2.imread(path, cv2.IMREAD_COLOR)\n",
    "        img = cv2.resize(img, (28,28))\n",
    "        test_images.append(np.array(img))\n",
    "    return test_images"
   ]
  },
  {
   "cell_type": "code",
   "execution_count": 4,
   "metadata": {},
   "outputs": [
    {
     "name": "stderr",
     "output_type": "stream",
     "text": [
      "100%|██████████| 500/500 [00:07<00:00, 68.36it/s]\n",
      "100%|██████████| 1000/1000 [00:14<00:00, 68.26it/s]\n"
     ]
    }
   ],
   "source": [
    "# Get the images and put them into np arrays and resize them\n",
    "testing_images = test_data_with_label()\n",
    "training_images = train_data_with_label()"
   ]
  },
  {
   "cell_type": "code",
   "execution_count": 5,
   "metadata": {},
   "outputs": [
    {
     "data": {
      "text/plain": [
       "(500, 28, 28, 3)"
      ]
     },
     "execution_count": 5,
     "metadata": {},
     "output_type": "execute_result"
    }
   ],
   "source": [
    "np.array(testing_images).shape"
   ]
  },
  {
   "cell_type": "code",
   "execution_count": 6,
   "metadata": {},
   "outputs": [],
   "source": [
    "tr_img_data = np.array([i[0] for i in training_images])\n",
    "tst_img_data = np.array([i[0] for i in testing_images])"
   ]
  },
  {
   "cell_type": "code",
   "execution_count": 7,
   "metadata": {},
   "outputs": [
    {
     "data": {
      "text/plain": [
       "(1000, 28, 3)"
      ]
     },
     "execution_count": 7,
     "metadata": {},
     "output_type": "execute_result"
    }
   ],
   "source": [
    "tr_img_data.shape"
   ]
  },
  {
   "cell_type": "code",
   "execution_count": 8,
   "metadata": {},
   "outputs": [],
   "source": [
    "# normalize the images\n",
    "tst_img_data = np.array(testing_images).astype('float32') / 255.\n",
    "tr_img_data = np.array(training_images).astype('float32') / 255."
   ]
  },
  {
   "cell_type": "code",
   "execution_count": 9,
   "metadata": {},
   "outputs": [
    {
     "data": {
      "text/plain": [
       "(1000, 28, 28, 3)"
      ]
     },
     "execution_count": 9,
     "metadata": {},
     "output_type": "execute_result"
    }
   ],
   "source": [
    "tr_img_data.shape"
   ]
  },
  {
   "cell_type": "code",
   "execution_count": 10,
   "metadata": {},
   "outputs": [
    {
     "data": {
      "text/plain": [
       "<matplotlib.image.AxesImage at 0x1c4454fcc0>"
      ]
     },
     "execution_count": 10,
     "metadata": {},
     "output_type": "execute_result"
    },
    {
     "data": {
      "image/png": "[encoded data removed]",
      "text/plain": [
       "<Figure size 432x288 with 1 Axes>"
      ]
     },
     "metadata": {
      "needs_background": "light"
     },
     "output_type": "display_data"
    }
   ],
   "source": [
    "plt.imshow(tr_img_data[999].reshape(28,28,3))"
   ]
  },
  {
   "cell_type": "code",
   "execution_count": 11,
   "metadata": {},
   "outputs": [],
   "source": [
    "# dimensions of our images.\n",
    "img_width, img_height = 28, 28\n",
    "img_channel = 3"
   ]
  },
  {
   "cell_type": "code",
   "execution_count": null,
   "metadata": {},
   "outputs": [],
   "source": []
  },
  {
   "cell_type": "markdown",
   "metadata": {},
   "source": [
    "# CNN Architecture"
   ]
  },
  {
   "cell_type": "code",
   "execution_count": 12,
   "metadata": {},
   "outputs": [],
   "source": [
    "input_img = Input(shape=(img_width, img_height, img_channel))  # adapt this if using `channels_first` image data format\n",
    "\n",
    "x = Conv2D(16, (3, 3), activation='relu', padding='same')(input_img)\n",
    "x = MaxPooling2D((2, 2), padding='same')(x)\n",
    "x = Conv2D(8, (3, 3), activation='relu', padding='same')(x)\n",
    "x = MaxPooling2D((2, 2), padding='same')(x)\n",
    "x = Conv2D(8, (3, 3), activation='relu', padding='same')(x)\n",
    "encoded = MaxPooling2D((2, 2), padding='same')(x)\n",
    "\n",
    "# at this point the representation is (4, 4, 8) i.e. 128-dimensional\n",
    "\n",
    "x = Conv2D(8, (3, 3), activation='relu', padding='same')(encoded)\n",
    "x = UpSampling2D((2, 2))(x)\n",
    "x = Conv2D(8, (3, 3), activation='relu', padding='same')(x)\n",
    "x = UpSampling2D((2, 2))(x)\n",
    "x = Conv2D(16, (3, 3), activation='relu')(x)\n",
    "x = UpSampling2D((2, 2))(x)\n",
    "decoded = Conv2D(3, (3, 3), activation='sigmoid', padding='same')(x)\n",
    "\n",
    "autoencoder = Model(input_img, decoded)\n",
    "autoencoder.compile(optimizer='adam', loss='binary_crossentropy')"
   ]
  },
  {
   "cell_type": "code",
   "execution_count": 13,
   "metadata": {},
   "outputs": [
    {
     "name": "stdout",
     "output_type": "stream",
     "text": [
      "Model: \"model_1\"\n",
      "_________________________________________________________________\n",
      "Layer (type)                 Output Shape              Param #   \n",
      "=================================================================\n",
      "input_1 (InputLayer)         (None, 28, 28, 3)         0         \n",
      "_________________________________________________________________\n",
      "conv2d_1 (Conv2D)            (None, 28, 28, 16)        448       \n",
      "_________________________________________________________________\n",
      "max_pooling2d_1 (MaxPooling2 (None, 14, 14, 16)        0         \n",
      "_________________________________________________________________\n",
      "conv2d_2 (Conv2D)            (None, 14, 14, 8)         1160      \n",
      "_________________________________________________________________\n",
      "max_pooling2d_2 (MaxPooling2 (None, 7, 7, 8)           0         \n",
      "_________________________________________________________________\n",
      "conv2d_3 (Conv2D)            (None, 7, 7, 8)           584       \n",
      "_________________________________________________________________\n",
      "max_pooling2d_3 (MaxPooling2 (None, 4, 4, 8)           0         \n",
      "_________________________________________________________________\n",
      "conv2d_4 (Conv2D)            (None, 4, 4, 8)           584       \n",
      "_________________________________________________________________\n",
      "up_sampling2d_1 (UpSampling2 (None, 8, 8, 8)           0         \n",
      "_________________________________________________________________\n",
      "conv2d_5 (Conv2D)            (None, 8, 8, 8)           584       \n",
      "_________________________________________________________________\n",
      "up_sampling2d_2 (UpSampling2 (None, 16, 16, 8)         0         \n",
      "_________________________________________________________________\n",
      "conv2d_6 (Conv2D)            (None, 14, 14, 16)        1168      \n",
      "_________________________________________________________________\n",
      "up_sampling2d_3 (UpSampling2 (None, 28, 28, 16)        0         \n",
      "_________________________________________________________________\n",
      "conv2d_7 (Conv2D)            (None, 28, 28, 3)         435       \n",
      "=================================================================\n",
      "Total params: 4,963\n",
      "Trainable params: 4,963\n",
      "Non-trainable params: 0\n",
      "_________________________________________________________________\n"
     ]
    }
   ],
   "source": [
    "autoencoder.summary()"
   ]
  },
  {
   "cell_type": "code",
   "execution_count": 14,
   "metadata": {},
   "outputs": [],
   "source": [
    "autoencoder.compile(optimizer='adam', loss='binary_crossentropy')"
   ]
  },
  {
   "cell_type": "code",
   "execution_count": 15,
   "metadata": {},
   "outputs": [
    {
     "data": {
      "text/plain": [
       "(1000, 28, 28, 3)"
      ]
     },
     "execution_count": 15,
     "metadata": {},
     "output_type": "execute_result"
    }
   ],
   "source": [
    "tr_img_data.shape"
   ]
  },
  {
   "cell_type": "code",
   "execution_count": 16,
   "metadata": {},
   "outputs": [
    {
     "data": {
      "text/plain": [
       "(500, 28, 28, 3)"
      ]
     },
     "execution_count": 16,
     "metadata": {},
     "output_type": "execute_result"
    }
   ],
   "source": [
    "tst_img_data.shape"
   ]
  },
  {
   "cell_type": "code",
   "execution_count": 17,
   "metadata": {},
   "outputs": [
    {
     "name": "stdout",
     "output_type": "stream",
     "text": [
      "Train on 1000 samples, validate on 500 samples\n",
      "Epoch 1/50\n",
      "1000/1000 [==============================] - 2s 2ms/step - loss: 0.5100 - val_loss: 0.3938\n",
      "Epoch 2/50\n",
      "1000/1000 [==============================] - 1s 1ms/step - loss: 0.3909 - val_loss: 0.3602\n",
      "Epoch 3/50\n",
      "1000/1000 [==============================] - 1s 1ms/step - loss: 0.3543 - val_loss: 0.3294\n",
      "Epoch 4/50\n",
      "1000/1000 [==============================] - 1s 1ms/step - loss: 0.3328 - val_loss: 0.3216\n",
      "Epoch 5/50\n",
      "1000/1000 [==============================] - 1s 1ms/step - loss: 0.3209 - val_loss: 0.3100\n",
      "Epoch 6/50\n",
      "1000/1000 [==============================] - 1s 1ms/step - loss: 0.3137 - val_loss: 0.3067\n",
      "Epoch 7/50\n",
      "1000/1000 [==============================] - 1s 1ms/step - loss: 0.3108 - val_loss: 0.3016\n",
      "Epoch 8/50\n",
      "1000/1000 [==============================] - 1s 1ms/step - loss: 0.3069 - val_loss: 0.2989\n",
      "Epoch 9/50\n",
      "1000/1000 [==============================] - 1s 1ms/step - loss: 0.3038 - val_loss: 0.2965\n",
      "Epoch 10/50\n",
      "1000/1000 [==============================] - 1s 1ms/step - loss: 0.3014 - val_loss: 0.2973\n",
      "Epoch 11/50\n",
      "1000/1000 [==============================] - 1s 1ms/step - loss: 0.3002 - val_loss: 0.2967\n",
      "Epoch 12/50\n",
      "1000/1000 [==============================] - 1s 1ms/step - loss: 0.2993 - val_loss: 0.2923\n",
      "Epoch 13/50\n",
      "1000/1000 [==============================] - 1s 1ms/step - loss: 0.2967 - val_loss: 0.2913\n",
      "Epoch 14/50\n",
      "1000/1000 [==============================] - 1s 1ms/step - loss: 0.2960 - val_loss: 0.2946\n",
      "Epoch 15/50\n",
      "1000/1000 [==============================] - 1s 1ms/step - loss: 0.2945 - val_loss: 0.2896\n",
      "Epoch 16/50\n",
      "1000/1000 [==============================] - 1s 1ms/step - loss: 0.2944 - val_loss: 0.2892\n",
      "Epoch 17/50\n",
      "1000/1000 [==============================] - 1s 1ms/step - loss: 0.2930 - val_loss: 0.2876\n",
      "Epoch 18/50\n",
      "1000/1000 [==============================] - 2s 2ms/step - loss: 0.2923 - val_loss: 0.2897\n",
      "Epoch 19/50\n",
      "1000/1000 [==============================] - 2s 2ms/step - loss: 0.2914 - val_loss: 0.2859\n",
      "Epoch 20/50\n",
      "1000/1000 [==============================] - 1s 1ms/step - loss: 0.2907 - val_loss: 0.2856\n",
      "Epoch 21/50\n",
      "1000/1000 [==============================] - 2s 2ms/step - loss: 0.2898 - val_loss: 0.2881\n",
      "Epoch 22/50\n",
      "1000/1000 [==============================] - 1s 1ms/step - loss: 0.2897 - val_loss: 0.2845\n",
      "Epoch 23/50\n",
      "1000/1000 [==============================] - 1s 1ms/step - loss: 0.2882 - val_loss: 0.2865\n",
      "Epoch 24/50\n",
      "1000/1000 [==============================] - 1s 1ms/step - loss: 0.2898 - val_loss: 0.2841\n",
      "Epoch 25/50\n",
      "1000/1000 [==============================] - 1s 1ms/step - loss: 0.2876 - val_loss: 0.2825\n",
      "Epoch 26/50\n",
      "1000/1000 [==============================] - 1s 1ms/step - loss: 0.2864 - val_loss: 0.2837\n",
      "Epoch 27/50\n",
      "1000/1000 [==============================] - 1s 1ms/step - loss: 0.2862 - val_loss: 0.2828\n",
      "Epoch 28/50\n",
      "1000/1000 [==============================] - 1s 1ms/step - loss: 0.2861 - val_loss: 0.2812\n",
      "Epoch 29/50\n",
      "1000/1000 [==============================] - 1s 1ms/step - loss: 0.2857 - val_loss: 0.2807\n",
      "Epoch 30/50\n",
      "1000/1000 [==============================] - 1s 1ms/step - loss: 0.2850 - val_loss: 0.2805\n",
      "Epoch 31/50\n",
      "1000/1000 [==============================] - 1s 1ms/step - loss: 0.2849 - val_loss: 0.2801\n",
      "Epoch 32/50\n",
      "1000/1000 [==============================] - 2s 2ms/step - loss: 0.2842 - val_loss: 0.2795\n",
      "Epoch 33/50\n",
      "1000/1000 [==============================] - 2s 2ms/step - loss: 0.2834 - val_loss: 0.2792\n",
      "Epoch 34/50\n",
      "1000/1000 [==============================] - 1s 1ms/step - loss: 0.2833 - val_loss: 0.2797\n",
      "Epoch 35/50\n",
      "1000/1000 [==============================] - 1s 1ms/step - loss: 0.2837 - val_loss: 0.2788\n",
      "Epoch 36/50\n",
      "1000/1000 [==============================] - 1s 1ms/step - loss: 0.2827 - val_loss: 0.2796\n",
      "Epoch 37/50\n",
      "1000/1000 [==============================] - 1s 1ms/step - loss: 0.2825 - val_loss: 0.2781\n",
      "Epoch 38/50\n",
      "1000/1000 [==============================] - 1s 1ms/step - loss: 0.2820 - val_loss: 0.2778\n",
      "Epoch 39/50\n",
      "1000/1000 [==============================] - 2s 2ms/step - loss: 0.2816 - val_loss: 0.2777\n",
      "Epoch 40/50\n",
      "1000/1000 [==============================] - 1s 1ms/step - loss: 0.2813 - val_loss: 0.2813\n",
      "Epoch 41/50\n",
      "1000/1000 [==============================] - 2s 2ms/step - loss: 0.2823 - val_loss: 0.2780\n",
      "Epoch 42/50\n",
      "1000/1000 [==============================] - 1s 1ms/step - loss: 0.2818 - val_loss: 0.2781\n",
      "Epoch 43/50\n",
      "1000/1000 [==============================] - 1s 1ms/step - loss: 0.2807 - val_loss: 0.2777\n",
      "Epoch 44/50\n",
      "1000/1000 [==============================] - 1s 1ms/step - loss: 0.2805 - val_loss: 0.2770\n",
      "Epoch 45/50\n",
      "1000/1000 [==============================] - 1s 1ms/step - loss: 0.2810 - val_loss: 0.2764\n",
      "Epoch 46/50\n",
      "1000/1000 [==============================] - 1s 1ms/step - loss: 0.2800 - val_loss: 0.2765\n",
      "Epoch 47/50\n",
      "1000/1000 [==============================] - 1s 1ms/step - loss: 0.2797 - val_loss: 0.2763\n",
      "Epoch 48/50\n",
      "1000/1000 [==============================] - 1s 1ms/step - loss: 0.2796 - val_loss: 0.2773\n",
      "Epoch 49/50\n",
      "1000/1000 [==============================] - 1s 1ms/step - loss: 0.2798 - val_loss: 0.2756\n",
      "Epoch 50/50\n",
      "1000/1000 [==============================] - 1s 1ms/step - loss: 0.2792 - val_loss: 0.2776\n"
     ]
    }
   ],
   "source": [
    "autoencoder_train = autoencoder.fit(\n",
    "    tr_img_data, tr_img_data,\n",
    "    validation_data = (tst_img_data,tst_img_data),\n",
    "    batch_size=32,\n",
    "    epochs=50,\n",
    "    verbose=1,\n",
    ")"
   ]
  },
  {
   "cell_type": "code",
   "execution_count": 18,
   "metadata": {},
   "outputs": [],
   "source": [
    "# this model maps an input to its encoded representation\n",
    "encoder = Model(input_img, encoded)"
   ]
  },
  {
   "cell_type": "code",
   "execution_count": 19,
   "metadata": {},
   "outputs": [
    {
     "data": {
      "text/plain": [
       "<keras.engine.training.Model at 0x1c467090b8>"
      ]
     },
     "execution_count": 19,
     "metadata": {},
     "output_type": "execute_result"
    }
   ],
   "source": [
    "encoder"
   ]
  },
  {
   "cell_type": "code",
   "execution_count": 20,
   "metadata": {},
   "outputs": [],
   "source": [
    "# encode some digits\n",
    "# note that we take them from the *test* set\n",
    "encoded_train_imgs = encoder.predict(tr_img_data)\n",
    "encoded_test_imgs = encoder.predict(tst_img_data)"
   ]
  },
  {
   "cell_type": "code",
   "execution_count": 21,
   "metadata": {},
   "outputs": [
    {
     "data": {
      "text/plain": [
       "(1000, 4, 4, 8)"
      ]
     },
     "execution_count": 21,
     "metadata": {},
     "output_type": "execute_result"
    }
   ],
   "source": [
    "encoded_train_imgs.shape"
   ]
  },
  {
   "cell_type": "code",
   "execution_count": 22,
   "metadata": {},
   "outputs": [
    {
     "data": {
      "text/plain": [
       "(500, 4, 4, 8)"
      ]
     },
     "execution_count": 22,
     "metadata": {},
     "output_type": "execute_result"
    }
   ],
   "source": [
    "encoded_test_imgs.shape"
   ]
  },
  {
   "cell_type": "code",
   "execution_count": 23,
   "metadata": {},
   "outputs": [],
   "source": [
    "# flatten the img, so they are the shape (#imgs, height*width*channels of output of encoder)\n",
    "encoded_train_imgs_flat = encoded_train_imgs.reshape((-1, np.prod(encoded_train_imgs.shape[1:])))\n",
    "encoded_test_imgs_flat = encoded_test_imgs.reshape((-1, np.prod(encoded_test_imgs.shape[1:])))"
   ]
  },
  {
   "cell_type": "code",
   "execution_count": 24,
   "metadata": {},
   "outputs": [
    {
     "data": {
      "text/plain": [
       "(500, 128)"
      ]
     },
     "execution_count": 24,
     "metadata": {},
     "output_type": "execute_result"
    }
   ],
   "source": [
    "encoded_test_imgs_flat.shape"
   ]
  },
  {
   "cell_type": "code",
   "execution_count": 25,
   "metadata": {},
   "outputs": [
    {
     "data": {
      "text/plain": [
       "array([1.0943859 , 0.78702784, 1.0202396 , 0.86161023, 0.5769206 ,\n",
       "       0.78968036, 1.2899653 , 0.        , 0.        , 0.68996394,\n",
       "       0.04436562, 1.3495789 , 0.493285  , 0.9400673 , 1.0797014 ,\n",
       "       0.        , 0.3955077 , 0.21297523, 1.166406  , 0.9921447 ,\n",
       "       0.7615835 , 0.87969935, 1.4387761 , 0.        , 0.        ,\n",
       "       0.        , 0.        , 1.348485  , 0.        , 0.51320714,\n",
       "       1.3759266 , 0.6911861 , 0.61107874, 0.13234907, 0.9915644 ,\n",
       "       1.0728613 , 0.55727386, 1.0246747 , 1.1188045 , 0.        ,\n",
       "       0.        , 0.        , 0.17053854, 1.235997  , 0.40412974,\n",
       "       1.2124203 , 0.9045984 , 0.        , 0.        , 0.        ,\n",
       "       0.84737426, 1.3539169 , 0.6433834 , 1.0986322 , 1.1102922 ,\n",
       "       0.        , 0.        , 0.        , 0.16086309, 1.3699777 ,\n",
       "       0.        , 0.76720965, 1.1503626 , 0.18565065, 0.4378585 ,\n",
       "       0.21358007, 1.1259404 , 0.6193203 , 0.18335602, 0.85528773,\n",
       "       1.1436414 , 0.        , 0.        , 0.        , 0.1890237 ,\n",
       "       0.9536322 , 0.        , 0.9253999 , 1.1489685 , 0.        ,\n",
       "       0.        , 0.        , 0.51259935, 0.62415177, 0.        ,\n",
       "       0.68193716, 1.2268287 , 0.        , 0.        , 0.        ,\n",
       "       0.27678663, 0.81246847, 0.        , 0.5860968 , 1.1963596 ,\n",
       "       0.        , 0.43217054, 0.33616978, 0.7438807 , 0.9193067 ,\n",
       "       0.569382  , 0.8738235 , 1.2532268 , 0.        , 0.        ,\n",
       "       0.        , 0.01093612, 1.3333459 , 0.35378867, 0.94627607,\n",
       "       1.0904474 , 0.        , 0.        , 0.        , 0.86854756,\n",
       "       0.92755663, 0.4458648 , 0.89918005, 1.2899792 , 0.        ,\n",
       "       0.        , 0.        , 0.        , 1.1214077 , 0.        ,\n",
       "       0.53570694, 0.9193304 , 0.        ], dtype=float32)"
      ]
     },
     "execution_count": 25,
     "metadata": {},
     "output_type": "execute_result"
    }
   ],
   "source": [
    "encoded_test_imgs_flat[0]"
   ]
  },
  {
   "cell_type": "code",
   "execution_count": 26,
   "metadata": {},
   "outputs": [
    {
     "data": {
      "image/png": "[encoded data removed]",
      "text/plain": [
       "<Figure size 432x288 with 1 Axes>"
      ]
     },
     "metadata": {
      "needs_background": "light"
     },
     "output_type": "display_data"
    }
   ],
   "source": [
    "# Training vs Validation Loss Plot\n",
    "loss = autoencoder.history.history['loss']\n",
    "val_loss = autoencoder.history.history['val_loss']\n",
    "epochs = range(50)\n",
    "plt.figure()\n",
    "plt.plot(epochs, loss, 'bo', label='Training loss')\n",
    "plt.plot(epochs, val_loss, 'b', label='Validation loss')\n",
    "plt.title('Training and validation loss')\n",
    "plt.legend()\n",
    "plt.show()"
   ]
  },
  {
   "cell_type": "markdown",
   "metadata": {},
   "source": [
    "Validation loss and the training loss both are in sync. It shows that your model is not overfitting: the validation loss is decreasing and not increasing, and there rarely any gap between training and validation loss."
   ]
  },
  {
   "cell_type": "markdown",
   "metadata": {},
   "source": [
    "# Trying KNN"
   ]
  },
  {
   "cell_type": "code",
   "execution_count": 27,
   "metadata": {},
   "outputs": [
    {
     "data": {
      "text/plain": [
       "NearestNeighbors(algorithm='auto', leaf_size=30, metric='cosine',\n",
       "                 metric_params=None, n_jobs=None, n_neighbors=5, p=2,\n",
       "                 radius=1.0)"
      ]
     },
     "execution_count": 27,
     "metadata": {},
     "output_type": "execute_result"
    }
   ],
   "source": [
    "# Making Training set with the encoded layer\n",
    "knn = NearestNeighbors(n_neighbors=5, metric=\"cosine\")\n",
    "knn.fit(encoded_train_imgs_flat)"
   ]
  },
  {
   "cell_type": "code",
   "execution_count": 28,
   "metadata": {},
   "outputs": [],
   "source": [
    "# Save the trained model as a pickle string. \n",
    "pickle_name = 'jewelry_knn_test.sav'\n",
    "pickle.dump(knn, open(pickle_name, 'wb')) "
   ]
  },
  {
   "cell_type": "code",
   "execution_count": 29,
   "metadata": {},
   "outputs": [],
   "source": [
    "test_img = 190"
   ]
  },
  {
   "cell_type": "code",
   "execution_count": 30,
   "metadata": {},
   "outputs": [],
   "source": [
    "# Predict KNN for a test image\n",
    "distances, indices = knn.kneighbors(encoded_test_imgs_flat[test_img].reshape(1, -1))"
   ]
  },
  {
   "cell_type": "code",
   "execution_count": 31,
   "metadata": {},
   "outputs": [
    {
     "data": {
      "text/plain": [
       "<matplotlib.image.AxesImage at 0x1c44e05048>"
      ]
     },
     "execution_count": 31,
     "metadata": {},
     "output_type": "execute_result"
    },
    {
     "data": {
      "image/png": "[encoded data removed]",
      "text/plain": [
       "<Figure size 432x288 with 1 Axes>"
      ]
     },
     "metadata": {
      "needs_background": "light"
     },
     "output_type": "display_data"
    }
   ],
   "source": [
    "# Print the test image\n",
    "plt.imshow(tst_img_data[test_img].reshape(28, 28, 3))"
   ]
  },
  {
   "cell_type": "code",
   "execution_count": 32,
   "metadata": {},
   "outputs": [
    {
     "data": {
      "text/plain": [
       "array([[449, 730, 894, 391, 455]])"
      ]
     },
     "execution_count": 32,
     "metadata": {},
     "output_type": "execute_result"
    }
   ],
   "source": [
    "# indices for the neighbors in the training data set\n",
    "indices"
   ]
  },
  {
   "cell_type": "code",
   "execution_count": 33,
   "metadata": {},
   "outputs": [
    {
     "data": {
      "image/png": "[encoded data removed]",
      "text/plain": [
       "<Figure size 576x576 with 5 Axes>"
      ]
     },
     "metadata": {
      "needs_background": "light"
     },
     "output_type": "display_data"
    }
   ],
   "source": [
    "# n_neighbors of the test image\n",
    "fig= plt.figure(figsize=(8, 8))\n",
    "columns = 3\n",
    "rows = 2\n",
    "for i, idx in zip(range(1, columns*rows +1), np.nditer(indices)):\n",
    "    fig.add_subplot(rows, columns, i)\n",
    "    plt.imshow(tr_img_data[idx].reshape(28, 28, 3))\n",
    "plt.show()"
   ]
  },
  {
   "cell_type": "markdown",
   "metadata": {},
   "source": [
    "# WOOOT"
   ]
  },
  {
   "cell_type": "code",
   "execution_count": null,
   "metadata": {},
   "outputs": [],
   "source": []
  }
 ],
 "metadata": {
  "kernelspec": {
   "display_name": "Python 3",
   "language": "python",
   "name": "python3"
  },
  "language_info": {
   "codemirror_mode": {
    "name": "ipython",
    "version": 3
   },
   "file_extension": ".py",
   "mimetype": "text/x-python",
   "name": "python",
   "nbconvert_exporter": "python",
   "pygments_lexer": "ipython3",
   "version": "3.7.3"
  }
 },
 "nbformat": 4,
 "nbformat_minor": 2
}
