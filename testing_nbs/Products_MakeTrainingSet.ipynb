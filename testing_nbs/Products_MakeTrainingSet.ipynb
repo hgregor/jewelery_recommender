{
 "cells": [
  {
   "cell_type": "code",
   "execution_count": 1,
   "metadata": {},
   "outputs": [],
   "source": [
    "import json\n",
    "import numpy as np\n",
    "import pandas as pd\n",
    "import matplotlib.pyplot as plt\n",
    "from pandas.io.json import json_normalize\n",
    "import collections\n",
    "from scipy import stats\n",
    "\n",
    "%matplotlib inline"
   ]
  },
  {
   "cell_type": "code",
   "execution_count": 2,
   "metadata": {},
   "outputs": [
    {
     "name": "stdout",
     "output_type": "stream",
     "text": [
      "0\n",
      "500\n",
      "1000\n",
      "1500\n",
      "2000\n",
      "2500\n",
      "3000\n",
      "3500\n",
      "4000\n",
      "4500\n",
      "5000\n",
      "5500\n",
      "6000\n",
      "6500\n",
      "7000\n",
      "7500\n",
      "8000\n",
      "8500\n",
      "9000\n",
      "9500\n",
      "10000\n",
      "10500\n",
      "11000\n",
      "11500\n",
      "12000\n",
      "12500\n",
      "13000\n",
      "13500\n",
      "14000\n",
      "14500\n",
      "15000\n",
      "15500\n",
      "16000\n",
      "16500\n",
      "17000\n",
      "17500\n",
      "18000\n",
      "18500\n",
      "19000\n",
      "19500\n",
      "20000\n",
      "20500\n",
      "21000\n",
      "21500\n",
      "22000\n",
      "22500\n",
      "23000\n",
      "23500\n",
      "24000\n",
      "24500\n",
      "25000\n",
      "25500\n",
      "26000\n",
      "26500\n",
      "27000\n",
      "27500\n",
      "28000\n",
      "28500\n",
      "29000\n",
      "29500\n",
      "30000\n",
      "30500\n",
      "Counter({72: 9401, 73: 6937, 70: 4507, 75: 4099})\n"
     ]
    }
   ],
   "source": [
    "# Making Train, Test, and Validation Datasets\n",
    "PRODUCTS_FILEPATH = 'data/products.csv'\n",
    "\n",
    "id_to_product = {}\n",
    "\n",
    "with open(PRODUCTS_FILEPATH, 'r') as f:\n",
    "    for i, row in enumerate(f):\n",
    "        if i % 500 == 0:\n",
    "            print(i)\n",
    "        for product in json.loads(row):\n",
    "            id_to_product[product['id']] = product\n",
    "            \n",
    "ids = list(id_to_product.keys())\n",
    "\n",
    "id_to_category = {}\n",
    "for product in id_to_product.values():\n",
    "    for category in product['categories']:\n",
    "        id_to_category[category['numId']] = category\n",
    "\n",
    "category_ids_of_interest = set([\n",
    "    70, # bracelets\n",
    "    73, # necklaces\n",
    "    75, # rings\n",
    "    72, # earrings\n",
    "])\n",
    "\n",
    "category_to_count = collections.Counter()\n",
    "category_to_products = collections.defaultdict(set)\n",
    "\n",
    "i = 0\n",
    "for product in id_to_product.values():\n",
    "    category_ids = set(category['numId'] for category in product['categories'])\n",
    "    ids_in_common = category_ids & category_ids_of_interest\n",
    "    if len(ids_in_common) != 1:\n",
    "        i += 1\n",
    "    else:\n",
    "        category_to_count[list(ids_in_common)[0]] += 1\n",
    "        category_id = list(ids_in_common)[0]\n",
    "        category_to_products[category_id].add(product['id'])\n",
    "print(category_to_count)"
   ]
  },
  {
   "cell_type": "code",
   "execution_count": 3,
   "metadata": {},
   "outputs": [
    {
     "data": {
      "text/plain": [
       "16338"
      ]
     },
     "execution_count": 3,
     "metadata": {},
     "output_type": "execute_result"
    }
   ],
   "source": [
    "9401+6937"
   ]
  },
  {
   "cell_type": "code",
   "execution_count": 4,
   "metadata": {},
   "outputs": [
    {
     "data": {
      "text/plain": [
       "940.1"
      ]
     },
     "execution_count": 4,
     "metadata": {},
     "output_type": "execute_result"
    }
   ],
   "source": [
    "9401*0.1"
   ]
  },
  {
   "cell_type": "code",
   "execution_count": 5,
   "metadata": {},
   "outputs": [
    {
     "data": {
      "text/plain": [
       "693.7"
      ]
     },
     "execution_count": 5,
     "metadata": {},
     "output_type": "execute_result"
    }
   ],
   "source": [
    "6937*0.1"
   ]
  },
  {
   "cell_type": "code",
   "execution_count": 6,
   "metadata": {},
   "outputs": [],
   "source": [
    "random_necklaces = np.random.choice(np.array(list(category_to_products[73])), len(list(category_to_products[73])), replace=False)\n",
    "random_earrings = np.random.choice(np.array(list(category_to_products[72])), len(list(category_to_products[72])), replace=False)"
   ]
  },
  {
   "cell_type": "code",
   "execution_count": 7,
   "metadata": {},
   "outputs": [
    {
     "name": "stdout",
     "output_type": "stream",
     "text": [
      "6937\n"
     ]
    },
    {
     "data": {
      "text/plain": [
       "9401"
      ]
     },
     "execution_count": 7,
     "metadata": {},
     "output_type": "execute_result"
    }
   ],
   "source": [
    "print(len(random_necklaces))\n",
    "len(random_earrings)"
   ]
  },
  {
   "cell_type": "code",
   "execution_count": 19,
   "metadata": {},
   "outputs": [
    {
     "name": "stdout",
     "output_type": "stream",
     "text": [
      "/Users/linhchau/Desktop/galvanize/jewelery_recommender\n"
     ]
    }
   ],
   "source": [
    "#Make directories\n",
    "import shutil, pathlib, os\n",
    "\n",
    "print(os.getcwd())\n",
    "\n",
    "jewelry_type = ['necklaces', 'earrings']\n",
    "dataset_type = ['training_full', 'testing_full']\n",
    "\n",
    "for dataset in dataset_type:\n",
    "    for jewelry in jewelry_type:\n",
    "        path = f'data/{dataset}/{jewelry}'\n",
    "        pathlib.Path(path).mkdir(exist_ok=True, parents=True)"
   ]
  },
  {
   "cell_type": "code",
   "execution_count": 20,
   "metadata": {},
   "outputs": [],
   "source": [
    "import math\n",
    "import multiprocessing\n",
    "import os\n",
    "\n",
    "\n",
    "product_tgt = []\n",
    "\n",
    "mid_idx = math.floor(len(random_necklaces) * 0.9)\n",
    "for i in range(mid_idx):\n",
    "    product_tgt.append((random_necklaces[i], 'training_full', 'necklaces'))\n",
    "for i in range(mid_idx, len(random_necklaces)):\n",
    "    product_tgt.append((random_necklaces[i], 'testing_full', 'necklaces'))    \n",
    "\n",
    "mid_idx = math.floor(len(random_earrings) * 0.9)\n",
    "for i in range(mid_idx):\n",
    "    product_tgt.append((random_earrings[i], 'training_full', 'earrings'))\n",
    "for i in range(mid_idx, len(random_earrings)):\n",
    "    product_tgt.append((random_earrings[i], 'testing_full', 'earrings'))\n",
    "\n",
    "product_tgt\n",
    "    \n",
    "def copy_file(tpl):\n",
    "    product_id, tgt_dir, jewelry= tpl\n",
    "    path = f'data/{tgt_dir}/{jewelry}/{product_id}.jpg'\n",
    "    if os.path.isfile(path):\n",
    "        return\n",
    "    shutil.copyfile(\n",
    "        f'data/data/{product_id}.jpg',\n",
    "        path,\n",
    "    )\n",
    "\n",
    "\n",
    "with multiprocessing.Pool(multiprocessing.cpu_count() * 2) as workers:\n",
    "    workers.map(copy_file, product_tgt)"
   ]
  },
  {
   "cell_type": "code",
   "execution_count": null,
   "metadata": {},
   "outputs": [],
   "source": [
    "14703+1635"
   ]
  },
  {
   "cell_type": "code",
   "execution_count": null,
   "metadata": {},
   "outputs": [],
   "source": [
    "9401+6937\n",
    "\n",
    "6937+9401"
   ]
  },
  {
   "cell_type": "code",
   "execution_count": null,
   "metadata": {},
   "outputs": [],
   "source": []
  }
 ],
 "metadata": {
  "kernelspec": {
   "display_name": "Python 3",
   "language": "python",
   "name": "python3"
  },
  "language_info": {
   "codemirror_mode": {
    "name": "ipython",
    "version": 3
   },
   "file_extension": ".py",
   "mimetype": "text/x-python",
   "name": "python",
   "nbconvert_exporter": "python",
   "pygments_lexer": "ipython3",
   "version": "3.7.3"
  }
 },
 "nbformat": 4,
 "nbformat_minor": 2
}
